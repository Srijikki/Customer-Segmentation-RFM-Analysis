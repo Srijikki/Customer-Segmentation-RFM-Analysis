{
 "cells": [
  {
   "cell_type": "code",
   "execution_count": 382,
   "id": "e3dd5a9f",
   "metadata": {},
   "outputs": [],
   "source": [
    "import numpy as np\n",
    "import pandas as pd\n",
    "import seaborn as sns\n",
    "import matplotlib.pyplot as plt\n",
    "import warnings\n",
    "warnings.filterwarnings(\"ignore\")\n",
    "from sklearn.cluster import KMeans"
   ]
  },
  {
   "cell_type": "code",
   "execution_count": 383,
   "id": "de95491f",
   "metadata": {},
   "outputs": [],
   "source": [
    "df = pd.read_csv(\"Superstore Sales.csv\")"
   ]
  },
  {
   "cell_type": "code",
   "execution_count": 384,
   "id": "d716ac70",
   "metadata": {},
   "outputs": [
    {
     "data": {
      "text/html": [
       "<div>\n",
       "<style scoped>\n",
       "    .dataframe tbody tr th:only-of-type {\n",
       "        vertical-align: middle;\n",
       "    }\n",
       "\n",
       "    .dataframe tbody tr th {\n",
       "        vertical-align: top;\n",
       "    }\n",
       "\n",
       "    .dataframe thead th {\n",
       "        text-align: right;\n",
       "    }\n",
       "</style>\n",
       "<table border=\"1\" class=\"dataframe\">\n",
       "  <thead>\n",
       "    <tr style=\"text-align: right;\">\n",
       "      <th></th>\n",
       "      <th>Row ID</th>\n",
       "      <th>Order ID</th>\n",
       "      <th>Order Date</th>\n",
       "      <th>Month Year</th>\n",
       "      <th>Order Priority</th>\n",
       "      <th>Order Quantity</th>\n",
       "      <th>Sales</th>\n",
       "      <th>Customer Name</th>\n",
       "      <th>Province</th>\n",
       "      <th>Region</th>\n",
       "      <th>Product Category</th>\n",
       "      <th>Product Sub-Category</th>\n",
       "      <th>Product Name</th>\n",
       "    </tr>\n",
       "  </thead>\n",
       "  <tbody>\n",
       "    <tr>\n",
       "      <th>0</th>\n",
       "      <td>1</td>\n",
       "      <td>3</td>\n",
       "      <td>10/13/2010</td>\n",
       "      <td>10-01-2010</td>\n",
       "      <td>Low</td>\n",
       "      <td>6</td>\n",
       "      <td>261.5400</td>\n",
       "      <td>Muhammed MacIntyre</td>\n",
       "      <td>Nunavut</td>\n",
       "      <td>Nunavut</td>\n",
       "      <td>Office Supplies</td>\n",
       "      <td>Storage &amp; Organization</td>\n",
       "      <td>Eldon Base for stackable storage shelf, platinum</td>\n",
       "    </tr>\n",
       "    <tr>\n",
       "      <th>1</th>\n",
       "      <td>49</td>\n",
       "      <td>293</td>\n",
       "      <td>10-01-2012</td>\n",
       "      <td>10-01-2012</td>\n",
       "      <td>High</td>\n",
       "      <td>49</td>\n",
       "      <td>10123.0200</td>\n",
       "      <td>Barry French</td>\n",
       "      <td>Nunavut</td>\n",
       "      <td>Nunavut</td>\n",
       "      <td>Office Supplies</td>\n",
       "      <td>Appliances</td>\n",
       "      <td>1.7 Cubic Foot Compact \"Cube\" Office Refrigera...</td>\n",
       "    </tr>\n",
       "    <tr>\n",
       "      <th>2</th>\n",
       "      <td>50</td>\n",
       "      <td>293</td>\n",
       "      <td>10-01-2012</td>\n",
       "      <td>10-01-2012</td>\n",
       "      <td>High</td>\n",
       "      <td>27</td>\n",
       "      <td>244.5700</td>\n",
       "      <td>Barry French</td>\n",
       "      <td>Nunavut</td>\n",
       "      <td>Nunavut</td>\n",
       "      <td>Office Supplies</td>\n",
       "      <td>Binders and Binder Accessories</td>\n",
       "      <td>Cardinal Slant-D� Ring Binder, Heavy Gauge Vinyl</td>\n",
       "    </tr>\n",
       "    <tr>\n",
       "      <th>3</th>\n",
       "      <td>80</td>\n",
       "      <td>483</td>\n",
       "      <td>07-10-2011</td>\n",
       "      <td>07-01-2011</td>\n",
       "      <td>High</td>\n",
       "      <td>30</td>\n",
       "      <td>4965.7595</td>\n",
       "      <td>Clay Rozendal</td>\n",
       "      <td>Nunavut</td>\n",
       "      <td>Nunavut</td>\n",
       "      <td>Technology</td>\n",
       "      <td>Telephones and Communication</td>\n",
       "      <td>R380</td>\n",
       "    </tr>\n",
       "    <tr>\n",
       "      <th>4</th>\n",
       "      <td>85</td>\n",
       "      <td>515</td>\n",
       "      <td>8/28/2010</td>\n",
       "      <td>08-01-2010</td>\n",
       "      <td>Not Specified</td>\n",
       "      <td>19</td>\n",
       "      <td>394.2700</td>\n",
       "      <td>Carlos Soltero</td>\n",
       "      <td>Nunavut</td>\n",
       "      <td>Nunavut</td>\n",
       "      <td>Office Supplies</td>\n",
       "      <td>Appliances</td>\n",
       "      <td>Holmes HEPA Air Purifier</td>\n",
       "    </tr>\n",
       "  </tbody>\n",
       "</table>\n",
       "</div>"
      ],
      "text/plain": [
       "   Row ID  Order ID  Order Date  Month Year Order Priority  Order Quantity  \\\n",
       "0       1         3  10/13/2010  10-01-2010            Low               6   \n",
       "1      49       293  10-01-2012  10-01-2012           High              49   \n",
       "2      50       293  10-01-2012  10-01-2012           High              27   \n",
       "3      80       483  07-10-2011  07-01-2011           High              30   \n",
       "4      85       515   8/28/2010  08-01-2010  Not Specified              19   \n",
       "\n",
       "        Sales       Customer Name Province   Region Product Category  \\\n",
       "0    261.5400  Muhammed MacIntyre  Nunavut  Nunavut  Office Supplies   \n",
       "1  10123.0200        Barry French  Nunavut  Nunavut  Office Supplies   \n",
       "2    244.5700        Barry French  Nunavut  Nunavut  Office Supplies   \n",
       "3   4965.7595       Clay Rozendal  Nunavut  Nunavut       Technology   \n",
       "4    394.2700      Carlos Soltero  Nunavut  Nunavut  Office Supplies   \n",
       "\n",
       "             Product Sub-Category  \\\n",
       "0          Storage & Organization   \n",
       "1                      Appliances   \n",
       "2  Binders and Binder Accessories   \n",
       "3    Telephones and Communication   \n",
       "4                      Appliances   \n",
       "\n",
       "                                        Product Name  \n",
       "0   Eldon Base for stackable storage shelf, platinum  \n",
       "1  1.7 Cubic Foot Compact \"Cube\" Office Refrigera...  \n",
       "2   Cardinal Slant-D� Ring Binder, Heavy Gauge Vinyl  \n",
       "3                                               R380  \n",
       "4                           Holmes HEPA Air Purifier  "
      ]
     },
     "execution_count": 384,
     "metadata": {},
     "output_type": "execute_result"
    }
   ],
   "source": [
    "df.head()"
   ]
  },
  {
   "cell_type": "code",
   "execution_count": 385,
   "id": "06ec14b7",
   "metadata": {},
   "outputs": [
    {
     "name": "stdout",
     "output_type": "stream",
     "text": [
      "<class 'pandas.core.frame.DataFrame'>\n",
      "RangeIndex: 8399 entries, 0 to 8398\n",
      "Data columns (total 13 columns):\n",
      " #   Column                Non-Null Count  Dtype  \n",
      "---  ------                --------------  -----  \n",
      " 0   Row ID                8399 non-null   int64  \n",
      " 1   Order ID              8399 non-null   int64  \n",
      " 2   Order Date            8399 non-null   object \n",
      " 3   Month Year            8399 non-null   object \n",
      " 4   Order Priority        8399 non-null   object \n",
      " 5   Order Quantity        8399 non-null   int64  \n",
      " 6   Sales                 8399 non-null   float64\n",
      " 7   Customer Name         8399 non-null   object \n",
      " 8   Province              8399 non-null   object \n",
      " 9   Region                8399 non-null   object \n",
      " 10  Product Category      8399 non-null   object \n",
      " 11  Product Sub-Category  8399 non-null   object \n",
      " 12  Product Name          8399 non-null   object \n",
      "dtypes: float64(1), int64(3), object(9)\n",
      "memory usage: 853.1+ KB\n"
     ]
    }
   ],
   "source": [
    "df.info()"
   ]
  },
  {
   "cell_type": "code",
   "execution_count": 386,
   "id": "ba20e669",
   "metadata": {},
   "outputs": [
    {
     "data": {
      "text/plain": [
       "(8399, 13)"
      ]
     },
     "execution_count": 386,
     "metadata": {},
     "output_type": "execute_result"
    }
   ],
   "source": [
    "df.shape"
   ]
  },
  {
   "cell_type": "code",
   "execution_count": 387,
   "id": "001c044e",
   "metadata": {},
   "outputs": [
    {
     "data": {
      "text/plain": [
       "3/28/2012     20\n",
       "9/15/2011     20\n",
       "12-12-2010    18\n",
       "08-04-2010    17\n",
       "4/20/2010     17\n",
       "              ..\n",
       "11-12-2012     1\n",
       "10/26/2009     1\n",
       "07-06-2012     1\n",
       "07-10-2010     1\n",
       "11-02-2012     1\n",
       "Name: Order Date, Length: 1418, dtype: int64"
      ]
     },
     "execution_count": 387,
     "metadata": {},
     "output_type": "execute_result"
    }
   ],
   "source": [
    "df[\"Order Date\"].value_counts()"
   ]
  },
  {
   "cell_type": "code",
   "execution_count": 388,
   "id": "8298f782",
   "metadata": {},
   "outputs": [],
   "source": [
    "df[\"Order Date\"] = pd.to_datetime(df[\"Order Date\"])\n",
    "df[\"Month Year\"] = pd.to_datetime(df[\"Month Year\"])"
   ]
  },
  {
   "cell_type": "code",
   "execution_count": 389,
   "id": "093ece3e",
   "metadata": {
    "scrolled": true
   },
   "outputs": [
    {
     "name": "stdout",
     "output_type": "stream",
     "text": [
      "<class 'pandas.core.frame.DataFrame'>\n",
      "RangeIndex: 8399 entries, 0 to 8398\n",
      "Data columns (total 13 columns):\n",
      " #   Column                Non-Null Count  Dtype         \n",
      "---  ------                --------------  -----         \n",
      " 0   Row ID                8399 non-null   int64         \n",
      " 1   Order ID              8399 non-null   int64         \n",
      " 2   Order Date            8399 non-null   datetime64[ns]\n",
      " 3   Month Year            8399 non-null   datetime64[ns]\n",
      " 4   Order Priority        8399 non-null   object        \n",
      " 5   Order Quantity        8399 non-null   int64         \n",
      " 6   Sales                 8399 non-null   float64       \n",
      " 7   Customer Name         8399 non-null   object        \n",
      " 8   Province              8399 non-null   object        \n",
      " 9   Region                8399 non-null   object        \n",
      " 10  Product Category      8399 non-null   object        \n",
      " 11  Product Sub-Category  8399 non-null   object        \n",
      " 12  Product Name          8399 non-null   object        \n",
      "dtypes: datetime64[ns](2), float64(1), int64(3), object(7)\n",
      "memory usage: 853.1+ KB\n"
     ]
    }
   ],
   "source": [
    "df.info()"
   ]
  },
  {
   "cell_type": "markdown",
   "id": "6f1c276c",
   "metadata": {},
   "source": [
    "#### Inference\n",
    "*There are 4 numerical,7 categorical and 2 date type variables\n",
    "*convert the datatype of Order ID column from numerical to object."
   ]
  },
  {
   "cell_type": "code",
   "execution_count": 390,
   "id": "953c6627",
   "metadata": {},
   "outputs": [],
   "source": [
    "df[\"Sales\"]=df[\"Sales\"].round(2)"
   ]
  },
  {
   "cell_type": "code",
   "execution_count": 391,
   "id": "d4c4a281",
   "metadata": {},
   "outputs": [
    {
     "data": {
      "text/html": [
       "<div>\n",
       "<style scoped>\n",
       "    .dataframe tbody tr th:only-of-type {\n",
       "        vertical-align: middle;\n",
       "    }\n",
       "\n",
       "    .dataframe tbody tr th {\n",
       "        vertical-align: top;\n",
       "    }\n",
       "\n",
       "    .dataframe thead th {\n",
       "        text-align: right;\n",
       "    }\n",
       "</style>\n",
       "<table border=\"1\" class=\"dataframe\">\n",
       "  <thead>\n",
       "    <tr style=\"text-align: right;\">\n",
       "      <th></th>\n",
       "      <th>Row ID</th>\n",
       "      <th>Order ID</th>\n",
       "      <th>Order Date</th>\n",
       "      <th>Month Year</th>\n",
       "      <th>Order Priority</th>\n",
       "      <th>Order Quantity</th>\n",
       "      <th>Sales</th>\n",
       "      <th>Customer Name</th>\n",
       "      <th>Province</th>\n",
       "      <th>Region</th>\n",
       "      <th>Product Category</th>\n",
       "      <th>Product Sub-Category</th>\n",
       "      <th>Product Name</th>\n",
       "    </tr>\n",
       "  </thead>\n",
       "  <tbody>\n",
       "    <tr>\n",
       "      <th>0</th>\n",
       "      <td>1</td>\n",
       "      <td>3</td>\n",
       "      <td>2010-10-13</td>\n",
       "      <td>2010-10-01</td>\n",
       "      <td>Low</td>\n",
       "      <td>6</td>\n",
       "      <td>261.54</td>\n",
       "      <td>Muhammed MacIntyre</td>\n",
       "      <td>Nunavut</td>\n",
       "      <td>Nunavut</td>\n",
       "      <td>Office Supplies</td>\n",
       "      <td>Storage &amp; Organization</td>\n",
       "      <td>Eldon Base for stackable storage shelf, platinum</td>\n",
       "    </tr>\n",
       "    <tr>\n",
       "      <th>1</th>\n",
       "      <td>49</td>\n",
       "      <td>293</td>\n",
       "      <td>2012-10-01</td>\n",
       "      <td>2012-10-01</td>\n",
       "      <td>High</td>\n",
       "      <td>49</td>\n",
       "      <td>10123.02</td>\n",
       "      <td>Barry French</td>\n",
       "      <td>Nunavut</td>\n",
       "      <td>Nunavut</td>\n",
       "      <td>Office Supplies</td>\n",
       "      <td>Appliances</td>\n",
       "      <td>1.7 Cubic Foot Compact \"Cube\" Office Refrigera...</td>\n",
       "    </tr>\n",
       "    <tr>\n",
       "      <th>2</th>\n",
       "      <td>50</td>\n",
       "      <td>293</td>\n",
       "      <td>2012-10-01</td>\n",
       "      <td>2012-10-01</td>\n",
       "      <td>High</td>\n",
       "      <td>27</td>\n",
       "      <td>244.57</td>\n",
       "      <td>Barry French</td>\n",
       "      <td>Nunavut</td>\n",
       "      <td>Nunavut</td>\n",
       "      <td>Office Supplies</td>\n",
       "      <td>Binders and Binder Accessories</td>\n",
       "      <td>Cardinal Slant-D� Ring Binder, Heavy Gauge Vinyl</td>\n",
       "    </tr>\n",
       "    <tr>\n",
       "      <th>3</th>\n",
       "      <td>80</td>\n",
       "      <td>483</td>\n",
       "      <td>2011-07-10</td>\n",
       "      <td>2011-07-01</td>\n",
       "      <td>High</td>\n",
       "      <td>30</td>\n",
       "      <td>4965.76</td>\n",
       "      <td>Clay Rozendal</td>\n",
       "      <td>Nunavut</td>\n",
       "      <td>Nunavut</td>\n",
       "      <td>Technology</td>\n",
       "      <td>Telephones and Communication</td>\n",
       "      <td>R380</td>\n",
       "    </tr>\n",
       "    <tr>\n",
       "      <th>4</th>\n",
       "      <td>85</td>\n",
       "      <td>515</td>\n",
       "      <td>2010-08-28</td>\n",
       "      <td>2010-08-01</td>\n",
       "      <td>Not Specified</td>\n",
       "      <td>19</td>\n",
       "      <td>394.27</td>\n",
       "      <td>Carlos Soltero</td>\n",
       "      <td>Nunavut</td>\n",
       "      <td>Nunavut</td>\n",
       "      <td>Office Supplies</td>\n",
       "      <td>Appliances</td>\n",
       "      <td>Holmes HEPA Air Purifier</td>\n",
       "    </tr>\n",
       "  </tbody>\n",
       "</table>\n",
       "</div>"
      ],
      "text/plain": [
       "   Row ID  Order ID Order Date Month Year Order Priority  Order Quantity  \\\n",
       "0       1         3 2010-10-13 2010-10-01            Low               6   \n",
       "1      49       293 2012-10-01 2012-10-01           High              49   \n",
       "2      50       293 2012-10-01 2012-10-01           High              27   \n",
       "3      80       483 2011-07-10 2011-07-01           High              30   \n",
       "4      85       515 2010-08-28 2010-08-01  Not Specified              19   \n",
       "\n",
       "      Sales       Customer Name Province   Region Product Category  \\\n",
       "0    261.54  Muhammed MacIntyre  Nunavut  Nunavut  Office Supplies   \n",
       "1  10123.02        Barry French  Nunavut  Nunavut  Office Supplies   \n",
       "2    244.57        Barry French  Nunavut  Nunavut  Office Supplies   \n",
       "3   4965.76       Clay Rozendal  Nunavut  Nunavut       Technology   \n",
       "4    394.27      Carlos Soltero  Nunavut  Nunavut  Office Supplies   \n",
       "\n",
       "             Product Sub-Category  \\\n",
       "0          Storage & Organization   \n",
       "1                      Appliances   \n",
       "2  Binders and Binder Accessories   \n",
       "3    Telephones and Communication   \n",
       "4                      Appliances   \n",
       "\n",
       "                                        Product Name  \n",
       "0   Eldon Base for stackable storage shelf, platinum  \n",
       "1  1.7 Cubic Foot Compact \"Cube\" Office Refrigera...  \n",
       "2   Cardinal Slant-D� Ring Binder, Heavy Gauge Vinyl  \n",
       "3                                               R380  \n",
       "4                           Holmes HEPA Air Purifier  "
      ]
     },
     "execution_count": 391,
     "metadata": {},
     "output_type": "execute_result"
    }
   ],
   "source": [
    "df.head()"
   ]
  },
  {
   "cell_type": "code",
   "execution_count": 392,
   "id": "dd4b27d0",
   "metadata": {},
   "outputs": [],
   "source": [
    "# Converting Data Types\n",
    "df[\"Row ID\"] = df[\"Row ID\"].astype(\"object\")\n",
    "df[\"Order ID\"] = df[\"Order ID\"].astype(\"object\")"
   ]
  },
  {
   "cell_type": "code",
   "execution_count": 393,
   "id": "065103e8",
   "metadata": {
    "scrolled": true
   },
   "outputs": [
    {
     "name": "stdout",
     "output_type": "stream",
     "text": [
      "<class 'pandas.core.frame.DataFrame'>\n",
      "RangeIndex: 8399 entries, 0 to 8398\n",
      "Data columns (total 13 columns):\n",
      " #   Column                Non-Null Count  Dtype         \n",
      "---  ------                --------------  -----         \n",
      " 0   Row ID                8399 non-null   object        \n",
      " 1   Order ID              8399 non-null   object        \n",
      " 2   Order Date            8399 non-null   datetime64[ns]\n",
      " 3   Month Year            8399 non-null   datetime64[ns]\n",
      " 4   Order Priority        8399 non-null   object        \n",
      " 5   Order Quantity        8399 non-null   int64         \n",
      " 6   Sales                 8399 non-null   float64       \n",
      " 7   Customer Name         8399 non-null   object        \n",
      " 8   Province              8399 non-null   object        \n",
      " 9   Region                8399 non-null   object        \n",
      " 10  Product Category      8399 non-null   object        \n",
      " 11  Product Sub-Category  8399 non-null   object        \n",
      " 12  Product Name          8399 non-null   object        \n",
      "dtypes: datetime64[ns](2), float64(1), int64(1), object(9)\n",
      "memory usage: 853.1+ KB\n"
     ]
    }
   ],
   "source": [
    "df.info()"
   ]
  },
  {
   "cell_type": "code",
   "execution_count": 394,
   "id": "562f9990",
   "metadata": {},
   "outputs": [
    {
     "data": {
      "text/plain": [
       "Index(['Order Quantity', 'Sales'], dtype='object')"
      ]
     },
     "execution_count": 394,
     "metadata": {},
     "output_type": "execute_result"
    }
   ],
   "source": [
    "df_numeric=df.select_dtypes(np.number)\n",
    "df_numeric.columns"
   ]
  },
  {
   "cell_type": "code",
   "execution_count": 395,
   "id": "ba9dcbe0",
   "metadata": {},
   "outputs": [
    {
     "data": {
      "text/plain": [
       "Index(['Row ID', 'Order ID', 'Order Priority', 'Customer Name', 'Province',\n",
       "       'Region', 'Product Category', 'Product Sub-Category', 'Product Name'],\n",
       "      dtype='object')"
      ]
     },
     "execution_count": 395,
     "metadata": {},
     "output_type": "execute_result"
    }
   ],
   "source": [
    "df_cat=df.select_dtypes(include = \"object\")\n",
    "df_cat.columns"
   ]
  },
  {
   "cell_type": "code",
   "execution_count": 396,
   "id": "5dff0bf1",
   "metadata": {},
   "outputs": [
    {
     "data": {
      "text/plain": [
       "Row ID                  0.0\n",
       "Order ID                0.0\n",
       "Order Date              0.0\n",
       "Month Year              0.0\n",
       "Order Priority          0.0\n",
       "Order Quantity          0.0\n",
       "Sales                   0.0\n",
       "Customer Name           0.0\n",
       "Province                0.0\n",
       "Region                  0.0\n",
       "Product Category        0.0\n",
       "Product Sub-Category    0.0\n",
       "Product Name            0.0\n",
       "dtype: float64"
      ]
     },
     "execution_count": 396,
     "metadata": {},
     "output_type": "execute_result"
    }
   ],
   "source": [
    "df.isnull().sum()*100/len(df)"
   ]
  },
  {
   "cell_type": "code",
   "execution_count": 397,
   "id": "b84dc9bc",
   "metadata": {},
   "outputs": [],
   "source": [
    "# There are no null values in the dataset"
   ]
  },
  {
   "cell_type": "code",
   "execution_count": 398,
   "id": "2c3ffb32",
   "metadata": {},
   "outputs": [
    {
     "name": "stdout",
     "output_type": "stream",
     "text": [
      "Row ID 8399\n",
      "\n",
      "1       1\n",
      "5611    1\n",
      "5609    1\n",
      "5608    1\n",
      "5607    1\n",
      "       ..\n",
      "2795    1\n",
      "2794    1\n",
      "2793    1\n",
      "2792    1\n",
      "8399    1\n",
      "Name: Row ID, Length: 8399, dtype: int64\n",
      "##############################\n",
      "Order ID 5496\n",
      "\n",
      "43745    6\n",
      "24132    6\n",
      "48452    5\n",
      "48772    5\n",
      "57253    5\n",
      "        ..\n",
      "30885    1\n",
      "50503    1\n",
      "52035    1\n",
      "9472     1\n",
      "55270    1\n",
      "Name: Order ID, Length: 5496, dtype: int64\n",
      "##############################\n",
      "Order Priority 5\n",
      "\n",
      "High             1768\n",
      "Low              1720\n",
      "Not Specified    1672\n",
      "Medium           1631\n",
      "Critical         1608\n",
      "Name: Order Priority, dtype: int64\n",
      "##############################\n",
      "Customer Name 795\n",
      "\n",
      "Darren Budd          41\n",
      "Ed Braxton           38\n",
      "Brad Thomas          35\n",
      "Carlos Soltero       33\n",
      "Patrick Jones        30\n",
      "                     ..\n",
      "Natalie DeCherney     1\n",
      "Craig Carreira        1\n",
      "Maria Etezadi         1\n",
      "Sample Company A      1\n",
      "Maureen Grace         1\n",
      "Name: Customer Name, Length: 795, dtype: int64\n",
      "##############################\n",
      "Province 13\n",
      "\n",
      "Ontario                  1826\n",
      "British Columbia         1126\n",
      "Saskachewan               913\n",
      "Alberta                   865\n",
      "Manitoba                  793\n",
      "Quebec                    781\n",
      "Yukon                     542\n",
      "Nova Scotia               464\n",
      "Northwest Territories     394\n",
      "New Brunswick             323\n",
      "Prince Edward Island      211\n",
      "Newfoundland               82\n",
      "Nunavut                    79\n",
      "Name: Province, dtype: int64\n",
      "##############################\n",
      "Region 8\n",
      "\n",
      "West                     1991\n",
      "Ontario                  1826\n",
      "Prarie                   1706\n",
      "Atlantic                 1080\n",
      "Quebec                    781\n",
      "Yukon                     542\n",
      "Northwest Territories     394\n",
      "Nunavut                    79\n",
      "Name: Region, dtype: int64\n",
      "##############################\n",
      "Product Category 3\n",
      "\n",
      "Office Supplies    4610\n",
      "Technology         2065\n",
      "Furniture          1724\n",
      "Name: Product Category, dtype: int64\n",
      "##############################\n",
      "Product Sub-Category 17\n",
      "\n",
      "Paper                             1225\n",
      "Binders and Binder Accessories     915\n",
      "Telephones and Communication       883\n",
      "Office Furnishings                 788\n",
      "Computer Peripherals               758\n",
      "Pens & Art Supplies                633\n",
      "Storage & Organization             546\n",
      "Appliances                         434\n",
      "Chairs & Chairmats                 386\n",
      "Tables                             361\n",
      "Office Machines                    337\n",
      "Labels                             288\n",
      "Envelopes                          246\n",
      "Bookcases                          189\n",
      "Rubber Bands                       179\n",
      "Scissors, Rulers and Trimmers      144\n",
      "Copiers and Fax                     87\n",
      "Name: Product Sub-Category, dtype: int64\n",
      "##############################\n",
      "Product Name 1263\n",
      "\n",
      "Global High-Back Leather Tilter, Burgundy                                  24\n",
      "Fiskars� Softgrip Scissors                                                 22\n",
      "Bevis 36 x 72 Conference Tables                                            22\n",
      "BoxOffice By Design Rectangular and Half-Moon Meeting Room Tables          22\n",
      "Master Giant Foot� Doorstop, Safety Yellow                                 22\n",
      "                                                                           ..\n",
      "Eldon� Executive Woodline II Desk Accessories, Mahogany                     1\n",
      "Epson FX-2180 Wide Format Dot Matrix Printer                                1\n",
      "V66                                                                         1\n",
      "Acco PRESSTEX� Data Binder with Storage Hooks, Dark Blue, 14 7/8\" X 11\"     1\n",
      "Novimex High-Tech Fabric Mesh Task Chair                                    1\n",
      "Name: Product Name, Length: 1263, dtype: int64\n",
      "##############################\n"
     ]
    }
   ],
   "source": [
    "for i in df_cat:\n",
    "    print(i,df[i].nunique())\n",
    "    print()\n",
    "    print(df[i].value_counts())\n",
    "    print(\"#\"*30)"
   ]
  },
  {
   "cell_type": "code",
   "execution_count": 399,
   "id": "b9188478",
   "metadata": {},
   "outputs": [
    {
     "data": {
      "text/plain": [
       "8399"
      ]
     },
     "execution_count": 399,
     "metadata": {},
     "output_type": "execute_result"
    }
   ],
   "source": [
    "df[\"Row ID\"].nunique()"
   ]
  },
  {
   "cell_type": "markdown",
   "id": "9eceeba8",
   "metadata": {},
   "source": [
    "#### INFERENCE\n",
    "* From this we can able to infer thatall the row id's are unique so we need to drop this column\n",
    "* Total of 5496 orders has been placed\n",
    "* There are 5 different tyes of order priorities are there\n",
    "* Totally 795 customers are there \n",
    "* 13 provinces are there totally\n",
    "* 8 regions are there totally\n",
    "* Totally 17 sub-category are there \n",
    "* 1263 total products are available"
   ]
  },
  {
   "cell_type": "code",
   "execution_count": 401,
   "id": "33704979",
   "metadata": {},
   "outputs": [
    {
     "data": {
      "text/html": [
       "<div>\n",
       "<style scoped>\n",
       "    .dataframe tbody tr th:only-of-type {\n",
       "        vertical-align: middle;\n",
       "    }\n",
       "\n",
       "    .dataframe tbody tr th {\n",
       "        vertical-align: top;\n",
       "    }\n",
       "\n",
       "    .dataframe thead th {\n",
       "        text-align: right;\n",
       "    }\n",
       "</style>\n",
       "<table border=\"1\" class=\"dataframe\">\n",
       "  <thead>\n",
       "    <tr style=\"text-align: right;\">\n",
       "      <th></th>\n",
       "      <th>Row ID</th>\n",
       "      <th>Order ID</th>\n",
       "      <th>Order Date</th>\n",
       "      <th>Month Year</th>\n",
       "      <th>Order Priority</th>\n",
       "      <th>Order Quantity</th>\n",
       "      <th>Sales</th>\n",
       "      <th>Customer Name</th>\n",
       "      <th>Province</th>\n",
       "      <th>Region</th>\n",
       "      <th>Product Category</th>\n",
       "      <th>Product Sub-Category</th>\n",
       "      <th>Product Name</th>\n",
       "    </tr>\n",
       "  </thead>\n",
       "  <tbody>\n",
       "    <tr>\n",
       "      <th>0</th>\n",
       "      <td>1</td>\n",
       "      <td>3</td>\n",
       "      <td>2010-10-13</td>\n",
       "      <td>2010-10-01</td>\n",
       "      <td>Low</td>\n",
       "      <td>6</td>\n",
       "      <td>261.54</td>\n",
       "      <td>Muhammed MacIntyre</td>\n",
       "      <td>Nunavut</td>\n",
       "      <td>Nunavut</td>\n",
       "      <td>Office Supplies</td>\n",
       "      <td>Storage &amp; Organization</td>\n",
       "      <td>Eldon Base for stackable storage shelf, platinum</td>\n",
       "    </tr>\n",
       "    <tr>\n",
       "      <th>1</th>\n",
       "      <td>49</td>\n",
       "      <td>293</td>\n",
       "      <td>2012-10-01</td>\n",
       "      <td>2012-10-01</td>\n",
       "      <td>High</td>\n",
       "      <td>49</td>\n",
       "      <td>10123.02</td>\n",
       "      <td>Barry French</td>\n",
       "      <td>Nunavut</td>\n",
       "      <td>Nunavut</td>\n",
       "      <td>Office Supplies</td>\n",
       "      <td>Appliances</td>\n",
       "      <td>1.7 Cubic Foot Compact \"Cube\" Office Refrigera...</td>\n",
       "    </tr>\n",
       "    <tr>\n",
       "      <th>2</th>\n",
       "      <td>50</td>\n",
       "      <td>293</td>\n",
       "      <td>2012-10-01</td>\n",
       "      <td>2012-10-01</td>\n",
       "      <td>High</td>\n",
       "      <td>27</td>\n",
       "      <td>244.57</td>\n",
       "      <td>Barry French</td>\n",
       "      <td>Nunavut</td>\n",
       "      <td>Nunavut</td>\n",
       "      <td>Office Supplies</td>\n",
       "      <td>Binders and Binder Accessories</td>\n",
       "      <td>Cardinal Slant-D� Ring Binder, Heavy Gauge Vinyl</td>\n",
       "    </tr>\n",
       "    <tr>\n",
       "      <th>3</th>\n",
       "      <td>80</td>\n",
       "      <td>483</td>\n",
       "      <td>2011-07-10</td>\n",
       "      <td>2011-07-01</td>\n",
       "      <td>High</td>\n",
       "      <td>30</td>\n",
       "      <td>4965.76</td>\n",
       "      <td>Clay Rozendal</td>\n",
       "      <td>Nunavut</td>\n",
       "      <td>Nunavut</td>\n",
       "      <td>Technology</td>\n",
       "      <td>Telephones and Communication</td>\n",
       "      <td>R380</td>\n",
       "    </tr>\n",
       "    <tr>\n",
       "      <th>4</th>\n",
       "      <td>85</td>\n",
       "      <td>515</td>\n",
       "      <td>2010-08-28</td>\n",
       "      <td>2010-08-01</td>\n",
       "      <td>Not Specified</td>\n",
       "      <td>19</td>\n",
       "      <td>394.27</td>\n",
       "      <td>Carlos Soltero</td>\n",
       "      <td>Nunavut</td>\n",
       "      <td>Nunavut</td>\n",
       "      <td>Office Supplies</td>\n",
       "      <td>Appliances</td>\n",
       "      <td>Holmes HEPA Air Purifier</td>\n",
       "    </tr>\n",
       "    <tr>\n",
       "      <th>5</th>\n",
       "      <td>86</td>\n",
       "      <td>515</td>\n",
       "      <td>2010-08-28</td>\n",
       "      <td>2010-08-01</td>\n",
       "      <td>Not Specified</td>\n",
       "      <td>21</td>\n",
       "      <td>146.69</td>\n",
       "      <td>Carlos Soltero</td>\n",
       "      <td>Nunavut</td>\n",
       "      <td>Nunavut</td>\n",
       "      <td>Furniture</td>\n",
       "      <td>Office Furnishings</td>\n",
       "      <td>G.E. Longer-Life Indoor Recessed Floodlight Bulbs</td>\n",
       "    </tr>\n",
       "    <tr>\n",
       "      <th>6</th>\n",
       "      <td>97</td>\n",
       "      <td>613</td>\n",
       "      <td>2011-06-17</td>\n",
       "      <td>2011-06-01</td>\n",
       "      <td>High</td>\n",
       "      <td>12</td>\n",
       "      <td>93.54</td>\n",
       "      <td>Carl Jackson</td>\n",
       "      <td>Nunavut</td>\n",
       "      <td>Nunavut</td>\n",
       "      <td>Office Supplies</td>\n",
       "      <td>Binders and Binder Accessories</td>\n",
       "      <td>Angle-D Binders with Locking Rings, Label Holders</td>\n",
       "    </tr>\n",
       "    <tr>\n",
       "      <th>7</th>\n",
       "      <td>98</td>\n",
       "      <td>613</td>\n",
       "      <td>2011-06-17</td>\n",
       "      <td>2011-06-01</td>\n",
       "      <td>High</td>\n",
       "      <td>22</td>\n",
       "      <td>905.08</td>\n",
       "      <td>Carl Jackson</td>\n",
       "      <td>Nunavut</td>\n",
       "      <td>Nunavut</td>\n",
       "      <td>Office Supplies</td>\n",
       "      <td>Storage &amp; Organization</td>\n",
       "      <td>SAFCO Mobile Desk Side File, Wire Frame</td>\n",
       "    </tr>\n",
       "    <tr>\n",
       "      <th>8</th>\n",
       "      <td>103</td>\n",
       "      <td>643</td>\n",
       "      <td>2011-03-24</td>\n",
       "      <td>2011-03-01</td>\n",
       "      <td>High</td>\n",
       "      <td>21</td>\n",
       "      <td>2781.82</td>\n",
       "      <td>Monica Federle</td>\n",
       "      <td>Nunavut</td>\n",
       "      <td>Nunavut</td>\n",
       "      <td>Office Supplies</td>\n",
       "      <td>Storage &amp; Organization</td>\n",
       "      <td>SAFCO Commercial Wire Shelving, Black</td>\n",
       "    </tr>\n",
       "    <tr>\n",
       "      <th>9</th>\n",
       "      <td>107</td>\n",
       "      <td>678</td>\n",
       "      <td>2010-02-26</td>\n",
       "      <td>2010-02-01</td>\n",
       "      <td>Low</td>\n",
       "      <td>44</td>\n",
       "      <td>228.41</td>\n",
       "      <td>Dorothy Badders</td>\n",
       "      <td>Nunavut</td>\n",
       "      <td>Nunavut</td>\n",
       "      <td>Office Supplies</td>\n",
       "      <td>Paper</td>\n",
       "      <td>Xerox 198</td>\n",
       "    </tr>\n",
       "    <tr>\n",
       "      <th>10</th>\n",
       "      <td>127</td>\n",
       "      <td>807</td>\n",
       "      <td>2010-11-23</td>\n",
       "      <td>2010-11-01</td>\n",
       "      <td>Medium</td>\n",
       "      <td>45</td>\n",
       "      <td>196.85</td>\n",
       "      <td>Neola Schneider</td>\n",
       "      <td>Nunavut</td>\n",
       "      <td>Nunavut</td>\n",
       "      <td>Office Supplies</td>\n",
       "      <td>Paper</td>\n",
       "      <td>Xerox 1980</td>\n",
       "    </tr>\n",
       "    <tr>\n",
       "      <th>11</th>\n",
       "      <td>128</td>\n",
       "      <td>807</td>\n",
       "      <td>2010-11-23</td>\n",
       "      <td>2010-11-01</td>\n",
       "      <td>Medium</td>\n",
       "      <td>32</td>\n",
       "      <td>124.56</td>\n",
       "      <td>Neola Schneider</td>\n",
       "      <td>Nunavut</td>\n",
       "      <td>Nunavut</td>\n",
       "      <td>Office Supplies</td>\n",
       "      <td>Rubber Bands</td>\n",
       "      <td>Advantus Map Pennant Flags and Round Head Tacks</td>\n",
       "    </tr>\n",
       "    <tr>\n",
       "      <th>12</th>\n",
       "      <td>134</td>\n",
       "      <td>868</td>\n",
       "      <td>2012-06-08</td>\n",
       "      <td>2012-06-01</td>\n",
       "      <td>Not Specified</td>\n",
       "      <td>32</td>\n",
       "      <td>716.84</td>\n",
       "      <td>Carlos Daly</td>\n",
       "      <td>Nunavut</td>\n",
       "      <td>Nunavut</td>\n",
       "      <td>Office Supplies</td>\n",
       "      <td>Appliances</td>\n",
       "      <td>Holmes HEPA Air Purifier</td>\n",
       "    </tr>\n",
       "    <tr>\n",
       "      <th>13</th>\n",
       "      <td>135</td>\n",
       "      <td>868</td>\n",
       "      <td>2012-06-08</td>\n",
       "      <td>2012-06-01</td>\n",
       "      <td>Not Specified</td>\n",
       "      <td>31</td>\n",
       "      <td>1474.33</td>\n",
       "      <td>Carlos Daly</td>\n",
       "      <td>Nunavut</td>\n",
       "      <td>Nunavut</td>\n",
       "      <td>Technology</td>\n",
       "      <td>Computer Peripherals</td>\n",
       "      <td>DS/HD IBM Formatted Diskettes, 200/Pack - Staples</td>\n",
       "    </tr>\n",
       "    <tr>\n",
       "      <th>14</th>\n",
       "      <td>149</td>\n",
       "      <td>933</td>\n",
       "      <td>2012-08-04</td>\n",
       "      <td>2012-08-01</td>\n",
       "      <td>Not Specified</td>\n",
       "      <td>15</td>\n",
       "      <td>80.61</td>\n",
       "      <td>Claudia Miner</td>\n",
       "      <td>Nunavut</td>\n",
       "      <td>Nunavut</td>\n",
       "      <td>Office Supplies</td>\n",
       "      <td>Binders and Binder Accessories</td>\n",
       "      <td>Wilson Jones 1\" Hanging DublLock� Ring Binders</td>\n",
       "    </tr>\n",
       "    <tr>\n",
       "      <th>15</th>\n",
       "      <td>160</td>\n",
       "      <td>995</td>\n",
       "      <td>2011-05-30</td>\n",
       "      <td>2011-05-01</td>\n",
       "      <td>Medium</td>\n",
       "      <td>46</td>\n",
       "      <td>1815.49</td>\n",
       "      <td>Neola Schneider</td>\n",
       "      <td>Nunavut</td>\n",
       "      <td>Nunavut</td>\n",
       "      <td>Furniture</td>\n",
       "      <td>Office Furnishings</td>\n",
       "      <td>Ultra Commercial Grade Dual Valve Door Closer</td>\n",
       "    </tr>\n",
       "    <tr>\n",
       "      <th>16</th>\n",
       "      <td>161</td>\n",
       "      <td>998</td>\n",
       "      <td>2009-11-25</td>\n",
       "      <td>2009-11-01</td>\n",
       "      <td>Not Specified</td>\n",
       "      <td>16</td>\n",
       "      <td>248.26</td>\n",
       "      <td>Allen Rosenblatt</td>\n",
       "      <td>Nunavut</td>\n",
       "      <td>Nunavut</td>\n",
       "      <td>Office Supplies</td>\n",
       "      <td>Envelopes</td>\n",
       "      <td>#10-4 1/8\" x 9 1/2\" Premium Diagonal Seam Enve...</td>\n",
       "    </tr>\n",
       "    <tr>\n",
       "      <th>17</th>\n",
       "      <td>175</td>\n",
       "      <td>1154</td>\n",
       "      <td>2012-02-14</td>\n",
       "      <td>2012-02-01</td>\n",
       "      <td>Critical</td>\n",
       "      <td>44</td>\n",
       "      <td>4462.23</td>\n",
       "      <td>Sylvia Foulston</td>\n",
       "      <td>Nunavut</td>\n",
       "      <td>Nunavut</td>\n",
       "      <td>Furniture</td>\n",
       "      <td>Bookcases</td>\n",
       "      <td>Hon 4-Shelf Metal Bookcases</td>\n",
       "    </tr>\n",
       "    <tr>\n",
       "      <th>18</th>\n",
       "      <td>176</td>\n",
       "      <td>1154</td>\n",
       "      <td>2012-02-14</td>\n",
       "      <td>2012-02-01</td>\n",
       "      <td>Critical</td>\n",
       "      <td>11</td>\n",
       "      <td>663.78</td>\n",
       "      <td>Sylvia Foulston</td>\n",
       "      <td>Nunavut</td>\n",
       "      <td>Nunavut</td>\n",
       "      <td>Furniture</td>\n",
       "      <td>Tables</td>\n",
       "      <td>Lesro Sheffield Collection Coffee Table, End T...</td>\n",
       "    </tr>\n",
       "    <tr>\n",
       "      <th>19</th>\n",
       "      <td>203</td>\n",
       "      <td>1344</td>\n",
       "      <td>2012-04-15</td>\n",
       "      <td>2012-04-01</td>\n",
       "      <td>Low</td>\n",
       "      <td>15</td>\n",
       "      <td>834.90</td>\n",
       "      <td>Jim Radford</td>\n",
       "      <td>Nunavut</td>\n",
       "      <td>Nunavut</td>\n",
       "      <td>Technology</td>\n",
       "      <td>Telephones and Communication</td>\n",
       "      <td>g520</td>\n",
       "    </tr>\n",
       "    <tr>\n",
       "      <th>20</th>\n",
       "      <td>204</td>\n",
       "      <td>1344</td>\n",
       "      <td>2012-04-15</td>\n",
       "      <td>2012-04-01</td>\n",
       "      <td>Low</td>\n",
       "      <td>18</td>\n",
       "      <td>2480.92</td>\n",
       "      <td>Jim Radford</td>\n",
       "      <td>Nunavut</td>\n",
       "      <td>Nunavut</td>\n",
       "      <td>Technology</td>\n",
       "      <td>Telephones and Communication</td>\n",
       "      <td>LX 788</td>\n",
       "    </tr>\n",
       "    <tr>\n",
       "      <th>21</th>\n",
       "      <td>213</td>\n",
       "      <td>1412</td>\n",
       "      <td>2010-03-12</td>\n",
       "      <td>2010-03-01</td>\n",
       "      <td>Not Specified</td>\n",
       "      <td>13</td>\n",
       "      <td>59.03</td>\n",
       "      <td>Carlos Soltero</td>\n",
       "      <td>Nunavut</td>\n",
       "      <td>Nunavut</td>\n",
       "      <td>Office Supplies</td>\n",
       "      <td>Labels</td>\n",
       "      <td>Avery 52</td>\n",
       "    </tr>\n",
       "    <tr>\n",
       "      <th>22</th>\n",
       "      <td>214</td>\n",
       "      <td>1412</td>\n",
       "      <td>2010-03-12</td>\n",
       "      <td>2010-03-01</td>\n",
       "      <td>Not Specified</td>\n",
       "      <td>21</td>\n",
       "      <td>97.48</td>\n",
       "      <td>Carlos Soltero</td>\n",
       "      <td>Nunavut</td>\n",
       "      <td>Nunavut</td>\n",
       "      <td>Office Supplies</td>\n",
       "      <td>Rubber Bands</td>\n",
       "      <td>Plymouth Boxed Rubber Bands by Plymouth</td>\n",
       "    </tr>\n",
       "    <tr>\n",
       "      <th>23</th>\n",
       "      <td>229</td>\n",
       "      <td>1539</td>\n",
       "      <td>2011-03-09</td>\n",
       "      <td>2011-03-01</td>\n",
       "      <td>Low</td>\n",
       "      <td>33</td>\n",
       "      <td>511.83</td>\n",
       "      <td>Carl Ludwig</td>\n",
       "      <td>Nunavut</td>\n",
       "      <td>Nunavut</td>\n",
       "      <td>Office Supplies</td>\n",
       "      <td>Binders and Binder Accessories</td>\n",
       "      <td>GBC Pre-Punched Binding Paper, Plastic, White,...</td>\n",
       "    </tr>\n",
       "    <tr>\n",
       "      <th>24</th>\n",
       "      <td>230</td>\n",
       "      <td>1539</td>\n",
       "      <td>2011-03-09</td>\n",
       "      <td>2011-03-01</td>\n",
       "      <td>Low</td>\n",
       "      <td>38</td>\n",
       "      <td>184.99</td>\n",
       "      <td>Carl Ludwig</td>\n",
       "      <td>Nunavut</td>\n",
       "      <td>Nunavut</td>\n",
       "      <td>Technology</td>\n",
       "      <td>Computer Peripherals</td>\n",
       "      <td>Maxell 3.5\" DS/HD IBM-Formatted Diskettes, 10/...</td>\n",
       "    </tr>\n",
       "    <tr>\n",
       "      <th>25</th>\n",
       "      <td>231</td>\n",
       "      <td>1540</td>\n",
       "      <td>2012-08-04</td>\n",
       "      <td>2012-08-01</td>\n",
       "      <td>High</td>\n",
       "      <td>30</td>\n",
       "      <td>80.90</td>\n",
       "      <td>Don Miller</td>\n",
       "      <td>Nunavut</td>\n",
       "      <td>Nunavut</td>\n",
       "      <td>Office Supplies</td>\n",
       "      <td>Pens &amp; Art Supplies</td>\n",
       "      <td>Newell 335</td>\n",
       "    </tr>\n",
       "    <tr>\n",
       "      <th>26</th>\n",
       "      <td>249</td>\n",
       "      <td>1702</td>\n",
       "      <td>2011-05-06</td>\n",
       "      <td>2011-05-01</td>\n",
       "      <td>High</td>\n",
       "      <td>23</td>\n",
       "      <td>67.24</td>\n",
       "      <td>Annie Cyprus</td>\n",
       "      <td>Nunavut</td>\n",
       "      <td>Nunavut</td>\n",
       "      <td>Office Supplies</td>\n",
       "      <td>Pens &amp; Art Supplies</td>\n",
       "      <td>SANFORD Liquid Accent� Tank-Style Highlighters</td>\n",
       "    </tr>\n",
       "    <tr>\n",
       "      <th>27</th>\n",
       "      <td>250</td>\n",
       "      <td>1761</td>\n",
       "      <td>2010-12-23</td>\n",
       "      <td>2010-12-01</td>\n",
       "      <td>High</td>\n",
       "      <td>25</td>\n",
       "      <td>12028.23</td>\n",
       "      <td>Carl Ludwig</td>\n",
       "      <td>Nunavut</td>\n",
       "      <td>Nunavut</td>\n",
       "      <td>Technology</td>\n",
       "      <td>Copiers and Fax</td>\n",
       "      <td>Canon PC940 Copier</td>\n",
       "    </tr>\n",
       "    <tr>\n",
       "      <th>28</th>\n",
       "      <td>256</td>\n",
       "      <td>1792</td>\n",
       "      <td>2010-11-08</td>\n",
       "      <td>2010-11-01</td>\n",
       "      <td>Low</td>\n",
       "      <td>28</td>\n",
       "      <td>370.48</td>\n",
       "      <td>Carlos Soltero</td>\n",
       "      <td>Nunavut</td>\n",
       "      <td>Nunavut</td>\n",
       "      <td>Office Supplies</td>\n",
       "      <td>Storage &amp; Organization</td>\n",
       "      <td>Tenex Personal Project File with Scoop Front D...</td>\n",
       "    </tr>\n",
       "    <tr>\n",
       "      <th>29</th>\n",
       "      <td>330</td>\n",
       "      <td>2275</td>\n",
       "      <td>2012-10-21</td>\n",
       "      <td>2012-10-01</td>\n",
       "      <td>Not Specified</td>\n",
       "      <td>49</td>\n",
       "      <td>278.00</td>\n",
       "      <td>Grant Carroll</td>\n",
       "      <td>Nunavut</td>\n",
       "      <td>Nunavut</td>\n",
       "      <td>Office Supplies</td>\n",
       "      <td>Pens &amp; Art Supplies</td>\n",
       "      <td>Col-Erase� Pencils with Erasers</td>\n",
       "    </tr>\n",
       "    <tr>\n",
       "      <th>30</th>\n",
       "      <td>331</td>\n",
       "      <td>2277</td>\n",
       "      <td>2011-01-01</td>\n",
       "      <td>2011-01-01</td>\n",
       "      <td>Not Specified</td>\n",
       "      <td>10</td>\n",
       "      <td>66.54</td>\n",
       "      <td>Don Miller</td>\n",
       "      <td>Nunavut</td>\n",
       "      <td>Nunavut</td>\n",
       "      <td>Technology</td>\n",
       "      <td>Computer Peripherals</td>\n",
       "      <td>Imation 3.5\" DS/HD IBM Formatted Diskettes, 10...</td>\n",
       "    </tr>\n",
       "    <tr>\n",
       "      <th>31</th>\n",
       "      <td>332</td>\n",
       "      <td>2277</td>\n",
       "      <td>2011-01-01</td>\n",
       "      <td>2011-01-01</td>\n",
       "      <td>Not Specified</td>\n",
       "      <td>21</td>\n",
       "      <td>845.32</td>\n",
       "      <td>Don Miller</td>\n",
       "      <td>Nunavut</td>\n",
       "      <td>Nunavut</td>\n",
       "      <td>Office Supplies</td>\n",
       "      <td>Paper</td>\n",
       "      <td>White Dual Perf Computer Printout Paper, 2700 ...</td>\n",
       "    </tr>\n",
       "    <tr>\n",
       "      <th>32</th>\n",
       "      <td>362</td>\n",
       "      <td>2532</td>\n",
       "      <td>2011-10-10</td>\n",
       "      <td>2011-10-01</td>\n",
       "      <td>High</td>\n",
       "      <td>39</td>\n",
       "      <td>282.07</td>\n",
       "      <td>Alan Barnes</td>\n",
       "      <td>Nunavut</td>\n",
       "      <td>Nunavut</td>\n",
       "      <td>Office Supplies</td>\n",
       "      <td>Labels</td>\n",
       "      <td>Self-Adhesive Address Labels for Typewriters b...</td>\n",
       "    </tr>\n",
       "    <tr>\n",
       "      <th>33</th>\n",
       "      <td>363</td>\n",
       "      <td>2532</td>\n",
       "      <td>2011-10-10</td>\n",
       "      <td>2011-10-01</td>\n",
       "      <td>High</td>\n",
       "      <td>24</td>\n",
       "      <td>426.04</td>\n",
       "      <td>Alan Barnes</td>\n",
       "      <td>Nunavut</td>\n",
       "      <td>Nunavut</td>\n",
       "      <td>Technology</td>\n",
       "      <td>Telephones and Communication</td>\n",
       "      <td>Accessory37</td>\n",
       "    </tr>\n",
       "    <tr>\n",
       "      <th>34</th>\n",
       "      <td>381</td>\n",
       "      <td>2631</td>\n",
       "      <td>2010-09-23</td>\n",
       "      <td>2010-09-01</td>\n",
       "      <td>Low</td>\n",
       "      <td>27</td>\n",
       "      <td>1078.49</td>\n",
       "      <td>Jack Garza</td>\n",
       "      <td>Nunavut</td>\n",
       "      <td>Nunavut</td>\n",
       "      <td>Technology</td>\n",
       "      <td>Computer Peripherals</td>\n",
       "      <td>Fuji 5.2GB DVD-RAM</td>\n",
       "    </tr>\n",
       "    <tr>\n",
       "      <th>35</th>\n",
       "      <td>406</td>\n",
       "      <td>2757</td>\n",
       "      <td>2011-07-19</td>\n",
       "      <td>2011-07-01</td>\n",
       "      <td>Critical</td>\n",
       "      <td>39</td>\n",
       "      <td>3554.46</td>\n",
       "      <td>Julia West</td>\n",
       "      <td>Nunavut</td>\n",
       "      <td>Nunavut</td>\n",
       "      <td>Furniture</td>\n",
       "      <td>Chairs &amp; Chairmats</td>\n",
       "      <td>Bevis Steel Folding Chairs</td>\n",
       "    </tr>\n",
       "    <tr>\n",
       "      <th>36</th>\n",
       "      <td>413</td>\n",
       "      <td>2791</td>\n",
       "      <td>2009-10-09</td>\n",
       "      <td>2009-10-01</td>\n",
       "      <td>High</td>\n",
       "      <td>47</td>\n",
       "      <td>191.67</td>\n",
       "      <td>Eugene Barchas</td>\n",
       "      <td>Nunavut</td>\n",
       "      <td>Nunavut</td>\n",
       "      <td>Office Supplies</td>\n",
       "      <td>Binders and Binder Accessories</td>\n",
       "      <td>Avery Binder Labels</td>\n",
       "    </tr>\n",
       "    <tr>\n",
       "      <th>37</th>\n",
       "      <td>414</td>\n",
       "      <td>2791</td>\n",
       "      <td>2009-10-09</td>\n",
       "      <td>2009-10-01</td>\n",
       "      <td>High</td>\n",
       "      <td>49</td>\n",
       "      <td>5586.33</td>\n",
       "      <td>Eugene Barchas</td>\n",
       "      <td>Nunavut</td>\n",
       "      <td>Nunavut</td>\n",
       "      <td>Furniture</td>\n",
       "      <td>Chairs &amp; Chairmats</td>\n",
       "      <td>Hon Every-Day� Chair Series Swivel Task Chairs</td>\n",
       "    </tr>\n",
       "    <tr>\n",
       "      <th>38</th>\n",
       "      <td>415</td>\n",
       "      <td>2791</td>\n",
       "      <td>2009-10-09</td>\n",
       "      <td>2009-10-01</td>\n",
       "      <td>High</td>\n",
       "      <td>18</td>\n",
       "      <td>507.64</td>\n",
       "      <td>Eugene Barchas</td>\n",
       "      <td>Nunavut</td>\n",
       "      <td>Nunavut</td>\n",
       "      <td>Office Supplies</td>\n",
       "      <td>Paper</td>\n",
       "      <td>IBM Multi-Purpose Copy Paper, 8 1/2 x 11\", Case</td>\n",
       "    </tr>\n",
       "    <tr>\n",
       "      <th>39</th>\n",
       "      <td>440</td>\n",
       "      <td>2976</td>\n",
       "      <td>2010-12-09</td>\n",
       "      <td>2010-12-01</td>\n",
       "      <td>Not Specified</td>\n",
       "      <td>30</td>\n",
       "      <td>14223.82</td>\n",
       "      <td>Edward Hooks</td>\n",
       "      <td>Nunavut</td>\n",
       "      <td>Nunavut</td>\n",
       "      <td>Furniture</td>\n",
       "      <td>Chairs &amp; Chairmats</td>\n",
       "      <td>Global Troy� Executive Leather Low-Back Tilter</td>\n",
       "    </tr>\n",
       "    <tr>\n",
       "      <th>40</th>\n",
       "      <td>471</td>\n",
       "      <td>3232</td>\n",
       "      <td>2012-10-08</td>\n",
       "      <td>2012-10-01</td>\n",
       "      <td>Critical</td>\n",
       "      <td>5</td>\n",
       "      <td>42.66</td>\n",
       "      <td>Brad Eason</td>\n",
       "      <td>Nunavut</td>\n",
       "      <td>Nunavut</td>\n",
       "      <td>Office Supplies</td>\n",
       "      <td>Binders and Binder Accessories</td>\n",
       "      <td>XtraLife� ClearVue� Slant-D� Ring Binders by C...</td>\n",
       "    </tr>\n",
       "    <tr>\n",
       "      <th>41</th>\n",
       "      <td>513</td>\n",
       "      <td>3524</td>\n",
       "      <td>2012-05-02</td>\n",
       "      <td>2012-05-01</td>\n",
       "      <td>High</td>\n",
       "      <td>21</td>\n",
       "      <td>427.32</td>\n",
       "      <td>Nicole Hansen</td>\n",
       "      <td>Nunavut</td>\n",
       "      <td>Nunavut</td>\n",
       "      <td>Office Supplies</td>\n",
       "      <td>Paper</td>\n",
       "      <td>Computer Printout Paper with Letter-Trim Perfo...</td>\n",
       "    </tr>\n",
       "    <tr>\n",
       "      <th>42</th>\n",
       "      <td>577</td>\n",
       "      <td>3908</td>\n",
       "      <td>2010-03-08</td>\n",
       "      <td>2010-03-01</td>\n",
       "      <td>Medium</td>\n",
       "      <td>8</td>\n",
       "      <td>820.28</td>\n",
       "      <td>Dorothy Wardle</td>\n",
       "      <td>Nunavut</td>\n",
       "      <td>Nunavut</td>\n",
       "      <td>Technology</td>\n",
       "      <td>Telephones and Communication</td>\n",
       "      <td>6160</td>\n",
       "    </tr>\n",
       "    <tr>\n",
       "      <th>43</th>\n",
       "      <td>606</td>\n",
       "      <td>4132</td>\n",
       "      <td>2011-05-28</td>\n",
       "      <td>2011-05-01</td>\n",
       "      <td>Not Specified</td>\n",
       "      <td>5</td>\n",
       "      <td>14.76</td>\n",
       "      <td>Aaron Bergman</td>\n",
       "      <td>Nunavut</td>\n",
       "      <td>Nunavut</td>\n",
       "      <td>Office Supplies</td>\n",
       "      <td>Labels</td>\n",
       "      <td>Avery 49</td>\n",
       "    </tr>\n",
       "    <tr>\n",
       "      <th>44</th>\n",
       "      <td>656</td>\n",
       "      <td>4612</td>\n",
       "      <td>2010-09-19</td>\n",
       "      <td>2010-09-01</td>\n",
       "      <td>Medium</td>\n",
       "      <td>9</td>\n",
       "      <td>89.55</td>\n",
       "      <td>Jim Radford</td>\n",
       "      <td>Nunavut</td>\n",
       "      <td>Nunavut</td>\n",
       "      <td>Office Supplies</td>\n",
       "      <td>Appliances</td>\n",
       "      <td>Hoover Portapower� Portable Vacuum</td>\n",
       "    </tr>\n",
       "    <tr>\n",
       "      <th>45</th>\n",
       "      <td>669</td>\n",
       "      <td>4676</td>\n",
       "      <td>2011-08-31</td>\n",
       "      <td>2011-08-01</td>\n",
       "      <td>High</td>\n",
       "      <td>11</td>\n",
       "      <td>1210.05</td>\n",
       "      <td>Annie Cyprus</td>\n",
       "      <td>Nunavut</td>\n",
       "      <td>Nunavut</td>\n",
       "      <td>Technology</td>\n",
       "      <td>Telephones and Communication</td>\n",
       "      <td>Timeport L7089</td>\n",
       "    </tr>\n",
       "    <tr>\n",
       "      <th>46</th>\n",
       "      <td>670</td>\n",
       "      <td>4676</td>\n",
       "      <td>2011-08-31</td>\n",
       "      <td>2011-08-01</td>\n",
       "      <td>High</td>\n",
       "      <td>50</td>\n",
       "      <td>187.83</td>\n",
       "      <td>Annie Cyprus</td>\n",
       "      <td>Nunavut</td>\n",
       "      <td>Nunavut</td>\n",
       "      <td>Office Supplies</td>\n",
       "      <td>Labels</td>\n",
       "      <td>Avery 510</td>\n",
       "    </tr>\n",
       "    <tr>\n",
       "      <th>47</th>\n",
       "      <td>671</td>\n",
       "      <td>4676</td>\n",
       "      <td>2011-08-31</td>\n",
       "      <td>2011-08-01</td>\n",
       "      <td>High</td>\n",
       "      <td>3</td>\n",
       "      <td>49.59</td>\n",
       "      <td>Annie Cyprus</td>\n",
       "      <td>Nunavut</td>\n",
       "      <td>Nunavut</td>\n",
       "      <td>Office Supplies</td>\n",
       "      <td>Paper</td>\n",
       "      <td>Xerox 1881</td>\n",
       "    </tr>\n",
       "    <tr>\n",
       "      <th>48</th>\n",
       "      <td>672</td>\n",
       "      <td>4676</td>\n",
       "      <td>2011-08-31</td>\n",
       "      <td>2011-08-01</td>\n",
       "      <td>High</td>\n",
       "      <td>30</td>\n",
       "      <td>4253.01</td>\n",
       "      <td>Annie Cyprus</td>\n",
       "      <td>Nunavut</td>\n",
       "      <td>Nunavut</td>\n",
       "      <td>Technology</td>\n",
       "      <td>Telephones and Communication</td>\n",
       "      <td>LX 788</td>\n",
       "    </tr>\n",
       "    <tr>\n",
       "      <th>49</th>\n",
       "      <td>734</td>\n",
       "      <td>5284</td>\n",
       "      <td>2011-07-08</td>\n",
       "      <td>2011-07-01</td>\n",
       "      <td>Not Specified</td>\n",
       "      <td>7</td>\n",
       "      <td>59.38</td>\n",
       "      <td>Annie Cyprus</td>\n",
       "      <td>Nunavut</td>\n",
       "      <td>Nunavut</td>\n",
       "      <td>Office Supplies</td>\n",
       "      <td>Binders and Binder Accessories</td>\n",
       "      <td>Cardinal Slant-D� Ring Binder, Heavy Gauge Vinyl</td>\n",
       "    </tr>\n",
       "  </tbody>\n",
       "</table>\n",
       "</div>"
      ],
      "text/plain": [
       "   Row ID Order ID Order Date Month Year Order Priority  Order Quantity  \\\n",
       "0       1        3 2010-10-13 2010-10-01            Low               6   \n",
       "1      49      293 2012-10-01 2012-10-01           High              49   \n",
       "2      50      293 2012-10-01 2012-10-01           High              27   \n",
       "3      80      483 2011-07-10 2011-07-01           High              30   \n",
       "4      85      515 2010-08-28 2010-08-01  Not Specified              19   \n",
       "5      86      515 2010-08-28 2010-08-01  Not Specified              21   \n",
       "6      97      613 2011-06-17 2011-06-01           High              12   \n",
       "7      98      613 2011-06-17 2011-06-01           High              22   \n",
       "8     103      643 2011-03-24 2011-03-01           High              21   \n",
       "9     107      678 2010-02-26 2010-02-01            Low              44   \n",
       "10    127      807 2010-11-23 2010-11-01         Medium              45   \n",
       "11    128      807 2010-11-23 2010-11-01         Medium              32   \n",
       "12    134      868 2012-06-08 2012-06-01  Not Specified              32   \n",
       "13    135      868 2012-06-08 2012-06-01  Not Specified              31   \n",
       "14    149      933 2012-08-04 2012-08-01  Not Specified              15   \n",
       "15    160      995 2011-05-30 2011-05-01         Medium              46   \n",
       "16    161      998 2009-11-25 2009-11-01  Not Specified              16   \n",
       "17    175     1154 2012-02-14 2012-02-01       Critical              44   \n",
       "18    176     1154 2012-02-14 2012-02-01       Critical              11   \n",
       "19    203     1344 2012-04-15 2012-04-01            Low              15   \n",
       "20    204     1344 2012-04-15 2012-04-01            Low              18   \n",
       "21    213     1412 2010-03-12 2010-03-01  Not Specified              13   \n",
       "22    214     1412 2010-03-12 2010-03-01  Not Specified              21   \n",
       "23    229     1539 2011-03-09 2011-03-01            Low              33   \n",
       "24    230     1539 2011-03-09 2011-03-01            Low              38   \n",
       "25    231     1540 2012-08-04 2012-08-01           High              30   \n",
       "26    249     1702 2011-05-06 2011-05-01           High              23   \n",
       "27    250     1761 2010-12-23 2010-12-01           High              25   \n",
       "28    256     1792 2010-11-08 2010-11-01            Low              28   \n",
       "29    330     2275 2012-10-21 2012-10-01  Not Specified              49   \n",
       "30    331     2277 2011-01-01 2011-01-01  Not Specified              10   \n",
       "31    332     2277 2011-01-01 2011-01-01  Not Specified              21   \n",
       "32    362     2532 2011-10-10 2011-10-01           High              39   \n",
       "33    363     2532 2011-10-10 2011-10-01           High              24   \n",
       "34    381     2631 2010-09-23 2010-09-01            Low              27   \n",
       "35    406     2757 2011-07-19 2011-07-01       Critical              39   \n",
       "36    413     2791 2009-10-09 2009-10-01           High              47   \n",
       "37    414     2791 2009-10-09 2009-10-01           High              49   \n",
       "38    415     2791 2009-10-09 2009-10-01           High              18   \n",
       "39    440     2976 2010-12-09 2010-12-01  Not Specified              30   \n",
       "40    471     3232 2012-10-08 2012-10-01       Critical               5   \n",
       "41    513     3524 2012-05-02 2012-05-01           High              21   \n",
       "42    577     3908 2010-03-08 2010-03-01         Medium               8   \n",
       "43    606     4132 2011-05-28 2011-05-01  Not Specified               5   \n",
       "44    656     4612 2010-09-19 2010-09-01         Medium               9   \n",
       "45    669     4676 2011-08-31 2011-08-01           High              11   \n",
       "46    670     4676 2011-08-31 2011-08-01           High              50   \n",
       "47    671     4676 2011-08-31 2011-08-01           High               3   \n",
       "48    672     4676 2011-08-31 2011-08-01           High              30   \n",
       "49    734     5284 2011-07-08 2011-07-01  Not Specified               7   \n",
       "\n",
       "       Sales       Customer Name Province   Region Product Category  \\\n",
       "0     261.54  Muhammed MacIntyre  Nunavut  Nunavut  Office Supplies   \n",
       "1   10123.02        Barry French  Nunavut  Nunavut  Office Supplies   \n",
       "2     244.57        Barry French  Nunavut  Nunavut  Office Supplies   \n",
       "3    4965.76       Clay Rozendal  Nunavut  Nunavut       Technology   \n",
       "4     394.27      Carlos Soltero  Nunavut  Nunavut  Office Supplies   \n",
       "5     146.69      Carlos Soltero  Nunavut  Nunavut        Furniture   \n",
       "6      93.54        Carl Jackson  Nunavut  Nunavut  Office Supplies   \n",
       "7     905.08        Carl Jackson  Nunavut  Nunavut  Office Supplies   \n",
       "8    2781.82      Monica Federle  Nunavut  Nunavut  Office Supplies   \n",
       "9     228.41     Dorothy Badders  Nunavut  Nunavut  Office Supplies   \n",
       "10    196.85     Neola Schneider  Nunavut  Nunavut  Office Supplies   \n",
       "11    124.56     Neola Schneider  Nunavut  Nunavut  Office Supplies   \n",
       "12    716.84         Carlos Daly  Nunavut  Nunavut  Office Supplies   \n",
       "13   1474.33         Carlos Daly  Nunavut  Nunavut       Technology   \n",
       "14     80.61       Claudia Miner  Nunavut  Nunavut  Office Supplies   \n",
       "15   1815.49     Neola Schneider  Nunavut  Nunavut        Furniture   \n",
       "16    248.26    Allen Rosenblatt  Nunavut  Nunavut  Office Supplies   \n",
       "17   4462.23     Sylvia Foulston  Nunavut  Nunavut        Furniture   \n",
       "18    663.78     Sylvia Foulston  Nunavut  Nunavut        Furniture   \n",
       "19    834.90         Jim Radford  Nunavut  Nunavut       Technology   \n",
       "20   2480.92         Jim Radford  Nunavut  Nunavut       Technology   \n",
       "21     59.03      Carlos Soltero  Nunavut  Nunavut  Office Supplies   \n",
       "22     97.48      Carlos Soltero  Nunavut  Nunavut  Office Supplies   \n",
       "23    511.83         Carl Ludwig  Nunavut  Nunavut  Office Supplies   \n",
       "24    184.99         Carl Ludwig  Nunavut  Nunavut       Technology   \n",
       "25     80.90          Don Miller  Nunavut  Nunavut  Office Supplies   \n",
       "26     67.24        Annie Cyprus  Nunavut  Nunavut  Office Supplies   \n",
       "27  12028.23         Carl Ludwig  Nunavut  Nunavut       Technology   \n",
       "28    370.48      Carlos Soltero  Nunavut  Nunavut  Office Supplies   \n",
       "29    278.00       Grant Carroll  Nunavut  Nunavut  Office Supplies   \n",
       "30     66.54          Don Miller  Nunavut  Nunavut       Technology   \n",
       "31    845.32          Don Miller  Nunavut  Nunavut  Office Supplies   \n",
       "32    282.07         Alan Barnes  Nunavut  Nunavut  Office Supplies   \n",
       "33    426.04         Alan Barnes  Nunavut  Nunavut       Technology   \n",
       "34   1078.49          Jack Garza  Nunavut  Nunavut       Technology   \n",
       "35   3554.46          Julia West  Nunavut  Nunavut        Furniture   \n",
       "36    191.67      Eugene Barchas  Nunavut  Nunavut  Office Supplies   \n",
       "37   5586.33      Eugene Barchas  Nunavut  Nunavut        Furniture   \n",
       "38    507.64      Eugene Barchas  Nunavut  Nunavut  Office Supplies   \n",
       "39  14223.82        Edward Hooks  Nunavut  Nunavut        Furniture   \n",
       "40     42.66          Brad Eason  Nunavut  Nunavut  Office Supplies   \n",
       "41    427.32       Nicole Hansen  Nunavut  Nunavut  Office Supplies   \n",
       "42    820.28      Dorothy Wardle  Nunavut  Nunavut       Technology   \n",
       "43     14.76       Aaron Bergman  Nunavut  Nunavut  Office Supplies   \n",
       "44     89.55         Jim Radford  Nunavut  Nunavut  Office Supplies   \n",
       "45   1210.05        Annie Cyprus  Nunavut  Nunavut       Technology   \n",
       "46    187.83        Annie Cyprus  Nunavut  Nunavut  Office Supplies   \n",
       "47     49.59        Annie Cyprus  Nunavut  Nunavut  Office Supplies   \n",
       "48   4253.01        Annie Cyprus  Nunavut  Nunavut       Technology   \n",
       "49     59.38        Annie Cyprus  Nunavut  Nunavut  Office Supplies   \n",
       "\n",
       "              Product Sub-Category  \\\n",
       "0           Storage & Organization   \n",
       "1                       Appliances   \n",
       "2   Binders and Binder Accessories   \n",
       "3     Telephones and Communication   \n",
       "4                       Appliances   \n",
       "5               Office Furnishings   \n",
       "6   Binders and Binder Accessories   \n",
       "7           Storage & Organization   \n",
       "8           Storage & Organization   \n",
       "9                            Paper   \n",
       "10                           Paper   \n",
       "11                    Rubber Bands   \n",
       "12                      Appliances   \n",
       "13            Computer Peripherals   \n",
       "14  Binders and Binder Accessories   \n",
       "15              Office Furnishings   \n",
       "16                       Envelopes   \n",
       "17                       Bookcases   \n",
       "18                          Tables   \n",
       "19    Telephones and Communication   \n",
       "20    Telephones and Communication   \n",
       "21                          Labels   \n",
       "22                    Rubber Bands   \n",
       "23  Binders and Binder Accessories   \n",
       "24            Computer Peripherals   \n",
       "25             Pens & Art Supplies   \n",
       "26             Pens & Art Supplies   \n",
       "27                 Copiers and Fax   \n",
       "28          Storage & Organization   \n",
       "29             Pens & Art Supplies   \n",
       "30            Computer Peripherals   \n",
       "31                           Paper   \n",
       "32                          Labels   \n",
       "33    Telephones and Communication   \n",
       "34            Computer Peripherals   \n",
       "35              Chairs & Chairmats   \n",
       "36  Binders and Binder Accessories   \n",
       "37              Chairs & Chairmats   \n",
       "38                           Paper   \n",
       "39              Chairs & Chairmats   \n",
       "40  Binders and Binder Accessories   \n",
       "41                           Paper   \n",
       "42    Telephones and Communication   \n",
       "43                          Labels   \n",
       "44                      Appliances   \n",
       "45    Telephones and Communication   \n",
       "46                          Labels   \n",
       "47                           Paper   \n",
       "48    Telephones and Communication   \n",
       "49  Binders and Binder Accessories   \n",
       "\n",
       "                                         Product Name  \n",
       "0    Eldon Base for stackable storage shelf, platinum  \n",
       "1   1.7 Cubic Foot Compact \"Cube\" Office Refrigera...  \n",
       "2    Cardinal Slant-D� Ring Binder, Heavy Gauge Vinyl  \n",
       "3                                                R380  \n",
       "4                            Holmes HEPA Air Purifier  \n",
       "5   G.E. Longer-Life Indoor Recessed Floodlight Bulbs  \n",
       "6   Angle-D Binders with Locking Rings, Label Holders  \n",
       "7             SAFCO Mobile Desk Side File, Wire Frame  \n",
       "8               SAFCO Commercial Wire Shelving, Black  \n",
       "9                                           Xerox 198  \n",
       "10                                         Xerox 1980  \n",
       "11    Advantus Map Pennant Flags and Round Head Tacks  \n",
       "12                           Holmes HEPA Air Purifier  \n",
       "13  DS/HD IBM Formatted Diskettes, 200/Pack - Staples  \n",
       "14     Wilson Jones 1\" Hanging DublLock� Ring Binders  \n",
       "15      Ultra Commercial Grade Dual Valve Door Closer  \n",
       "16  #10-4 1/8\" x 9 1/2\" Premium Diagonal Seam Enve...  \n",
       "17                        Hon 4-Shelf Metal Bookcases  \n",
       "18  Lesro Sheffield Collection Coffee Table, End T...  \n",
       "19                                               g520  \n",
       "20                                             LX 788  \n",
       "21                                           Avery 52  \n",
       "22            Plymouth Boxed Rubber Bands by Plymouth  \n",
       "23  GBC Pre-Punched Binding Paper, Plastic, White,...  \n",
       "24  Maxell 3.5\" DS/HD IBM-Formatted Diskettes, 10/...  \n",
       "25                                         Newell 335  \n",
       "26     SANFORD Liquid Accent� Tank-Style Highlighters  \n",
       "27                                 Canon PC940 Copier  \n",
       "28  Tenex Personal Project File with Scoop Front D...  \n",
       "29                    Col-Erase� Pencils with Erasers  \n",
       "30  Imation 3.5\" DS/HD IBM Formatted Diskettes, 10...  \n",
       "31  White Dual Perf Computer Printout Paper, 2700 ...  \n",
       "32  Self-Adhesive Address Labels for Typewriters b...  \n",
       "33                                        Accessory37  \n",
       "34                                 Fuji 5.2GB DVD-RAM  \n",
       "35                         Bevis Steel Folding Chairs  \n",
       "36                                Avery Binder Labels  \n",
       "37     Hon Every-Day� Chair Series Swivel Task Chairs  \n",
       "38    IBM Multi-Purpose Copy Paper, 8 1/2 x 11\", Case  \n",
       "39     Global Troy� Executive Leather Low-Back Tilter  \n",
       "40  XtraLife� ClearVue� Slant-D� Ring Binders by C...  \n",
       "41  Computer Printout Paper with Letter-Trim Perfo...  \n",
       "42                                               6160  \n",
       "43                                           Avery 49  \n",
       "44                 Hoover Portapower� Portable Vacuum  \n",
       "45                                     Timeport L7089  \n",
       "46                                          Avery 510  \n",
       "47                                         Xerox 1881  \n",
       "48                                             LX 788  \n",
       "49   Cardinal Slant-D� Ring Binder, Heavy Gauge Vinyl  "
      ]
     },
     "execution_count": 401,
     "metadata": {},
     "output_type": "execute_result"
    }
   ],
   "source": [
    "df.head(50)"
   ]
  },
  {
   "cell_type": "code",
   "execution_count": 402,
   "id": "59f70b24",
   "metadata": {},
   "outputs": [],
   "source": [
    "# dropping the row id column \n",
    "# dropping the month year column since the information which is given by this column can be explained by order date column."
   ]
  },
  {
   "cell_type": "code",
   "execution_count": 403,
   "id": "b5c8be2d",
   "metadata": {},
   "outputs": [],
   "source": [
    "df.drop([\"Row ID\",\"Month Year\"],axis=1,inplace = True)"
   ]
  },
  {
   "cell_type": "code",
   "execution_count": 404,
   "id": "fd6106f2",
   "metadata": {
    "scrolled": true
   },
   "outputs": [
    {
     "data": {
      "text/html": [
       "<div>\n",
       "<style scoped>\n",
       "    .dataframe tbody tr th:only-of-type {\n",
       "        vertical-align: middle;\n",
       "    }\n",
       "\n",
       "    .dataframe tbody tr th {\n",
       "        vertical-align: top;\n",
       "    }\n",
       "\n",
       "    .dataframe thead th {\n",
       "        text-align: right;\n",
       "    }\n",
       "</style>\n",
       "<table border=\"1\" class=\"dataframe\">\n",
       "  <thead>\n",
       "    <tr style=\"text-align: right;\">\n",
       "      <th></th>\n",
       "      <th>Order ID</th>\n",
       "      <th>Order Date</th>\n",
       "      <th>Order Priority</th>\n",
       "      <th>Order Quantity</th>\n",
       "      <th>Sales</th>\n",
       "      <th>Customer Name</th>\n",
       "      <th>Province</th>\n",
       "      <th>Region</th>\n",
       "      <th>Product Category</th>\n",
       "      <th>Product Sub-Category</th>\n",
       "      <th>Product Name</th>\n",
       "    </tr>\n",
       "  </thead>\n",
       "  <tbody>\n",
       "    <tr>\n",
       "      <th>0</th>\n",
       "      <td>3</td>\n",
       "      <td>2010-10-13</td>\n",
       "      <td>Low</td>\n",
       "      <td>6</td>\n",
       "      <td>261.54</td>\n",
       "      <td>Muhammed MacIntyre</td>\n",
       "      <td>Nunavut</td>\n",
       "      <td>Nunavut</td>\n",
       "      <td>Office Supplies</td>\n",
       "      <td>Storage &amp; Organization</td>\n",
       "      <td>Eldon Base for stackable storage shelf, platinum</td>\n",
       "    </tr>\n",
       "    <tr>\n",
       "      <th>1</th>\n",
       "      <td>293</td>\n",
       "      <td>2012-10-01</td>\n",
       "      <td>High</td>\n",
       "      <td>49</td>\n",
       "      <td>10123.02</td>\n",
       "      <td>Barry French</td>\n",
       "      <td>Nunavut</td>\n",
       "      <td>Nunavut</td>\n",
       "      <td>Office Supplies</td>\n",
       "      <td>Appliances</td>\n",
       "      <td>1.7 Cubic Foot Compact \"Cube\" Office Refrigera...</td>\n",
       "    </tr>\n",
       "    <tr>\n",
       "      <th>2</th>\n",
       "      <td>293</td>\n",
       "      <td>2012-10-01</td>\n",
       "      <td>High</td>\n",
       "      <td>27</td>\n",
       "      <td>244.57</td>\n",
       "      <td>Barry French</td>\n",
       "      <td>Nunavut</td>\n",
       "      <td>Nunavut</td>\n",
       "      <td>Office Supplies</td>\n",
       "      <td>Binders and Binder Accessories</td>\n",
       "      <td>Cardinal Slant-D� Ring Binder, Heavy Gauge Vinyl</td>\n",
       "    </tr>\n",
       "    <tr>\n",
       "      <th>3</th>\n",
       "      <td>483</td>\n",
       "      <td>2011-07-10</td>\n",
       "      <td>High</td>\n",
       "      <td>30</td>\n",
       "      <td>4965.76</td>\n",
       "      <td>Clay Rozendal</td>\n",
       "      <td>Nunavut</td>\n",
       "      <td>Nunavut</td>\n",
       "      <td>Technology</td>\n",
       "      <td>Telephones and Communication</td>\n",
       "      <td>R380</td>\n",
       "    </tr>\n",
       "    <tr>\n",
       "      <th>4</th>\n",
       "      <td>515</td>\n",
       "      <td>2010-08-28</td>\n",
       "      <td>Not Specified</td>\n",
       "      <td>19</td>\n",
       "      <td>394.27</td>\n",
       "      <td>Carlos Soltero</td>\n",
       "      <td>Nunavut</td>\n",
       "      <td>Nunavut</td>\n",
       "      <td>Office Supplies</td>\n",
       "      <td>Appliances</td>\n",
       "      <td>Holmes HEPA Air Purifier</td>\n",
       "    </tr>\n",
       "  </tbody>\n",
       "</table>\n",
       "</div>"
      ],
      "text/plain": [
       "  Order ID Order Date Order Priority  Order Quantity     Sales  \\\n",
       "0        3 2010-10-13            Low               6    261.54   \n",
       "1      293 2012-10-01           High              49  10123.02   \n",
       "2      293 2012-10-01           High              27    244.57   \n",
       "3      483 2011-07-10           High              30   4965.76   \n",
       "4      515 2010-08-28  Not Specified              19    394.27   \n",
       "\n",
       "        Customer Name Province   Region Product Category  \\\n",
       "0  Muhammed MacIntyre  Nunavut  Nunavut  Office Supplies   \n",
       "1        Barry French  Nunavut  Nunavut  Office Supplies   \n",
       "2        Barry French  Nunavut  Nunavut  Office Supplies   \n",
       "3       Clay Rozendal  Nunavut  Nunavut       Technology   \n",
       "4      Carlos Soltero  Nunavut  Nunavut  Office Supplies   \n",
       "\n",
       "             Product Sub-Category  \\\n",
       "0          Storage & Organization   \n",
       "1                      Appliances   \n",
       "2  Binders and Binder Accessories   \n",
       "3    Telephones and Communication   \n",
       "4                      Appliances   \n",
       "\n",
       "                                        Product Name  \n",
       "0   Eldon Base for stackable storage shelf, platinum  \n",
       "1  1.7 Cubic Foot Compact \"Cube\" Office Refrigera...  \n",
       "2   Cardinal Slant-D� Ring Binder, Heavy Gauge Vinyl  \n",
       "3                                               R380  \n",
       "4                           Holmes HEPA Air Purifier  "
      ]
     },
     "execution_count": 404,
     "metadata": {},
     "output_type": "execute_result"
    }
   ],
   "source": [
    "df.head()"
   ]
  },
  {
   "cell_type": "code",
   "execution_count": 405,
   "id": "1e11f1ed",
   "metadata": {},
   "outputs": [
    {
     "name": "stdout",
     "output_type": "stream",
     "text": [
      "Order Quantity 50\n",
      "\n",
      "31    202\n",
      "4     196\n",
      "39    195\n",
      "46    193\n",
      "24    192\n",
      "23    192\n",
      "42    189\n",
      "3     189\n",
      "43    184\n",
      "41    183\n",
      "50    182\n",
      "29    180\n",
      "20    176\n",
      "8     176\n",
      "26    174\n",
      "7     174\n",
      "48    172\n",
      "6     172\n",
      "16    171\n",
      "10    170\n",
      "32    170\n",
      "36    169\n",
      "25    167\n",
      "15    166\n",
      "5     166\n",
      "47    166\n",
      "1     165\n",
      "12    164\n",
      "34    164\n",
      "30    163\n",
      "45    163\n",
      "19    163\n",
      "27    162\n",
      "33    161\n",
      "21    158\n",
      "14    158\n",
      "44    157\n",
      "38    156\n",
      "9     155\n",
      "37    155\n",
      "18    155\n",
      "2     152\n",
      "17    151\n",
      "35    151\n",
      "11    151\n",
      "40    150\n",
      "13    150\n",
      "28    148\n",
      "22    145\n",
      "49    136\n",
      "Name: Order Quantity, dtype: int64\n",
      "##############################\n",
      "Sales 8130\n",
      "\n",
      "151.19     3\n",
      "43.29      3\n",
      "127.56     3\n",
      "75.19      3\n",
      "20.19      3\n",
      "          ..\n",
      "3491.71    1\n",
      "139.54     1\n",
      "227.66     1\n",
      "861.41     1\n",
      "441.99     1\n",
      "Name: Sales, Length: 8130, dtype: int64\n",
      "##############################\n"
     ]
    }
   ],
   "source": [
    "for i in df_numeric:\n",
    "    print(i,df[i].nunique())\n",
    "    print()\n",
    "    print(df[i].value_counts())\n",
    "    print(\"#\"*30)"
   ]
  },
  {
   "cell_type": "code",
   "execution_count": 406,
   "id": "d7e2af98",
   "metadata": {},
   "outputs": [
    {
     "name": "stdout",
     "output_type": "stream",
     "text": [
      "Skewness of the variable are:\n",
      "Order Quantity   -0.017318\n",
      "Sales             5.386982\n",
      "dtype: float64\n"
     ]
    }
   ],
   "source": [
    "print('Skewness of the variable are:')\n",
    "print(df_numeric.skew())"
   ]
  },
  {
   "cell_type": "markdown",
   "id": "75fc6823",
   "metadata": {},
   "source": [
    "#### INFERENCE\n",
    "* As we know, if skew values are <0 left skewed; =0 normally distributed/symetric distribution; >0 right skewed.\n",
    "* Order Quantity is left skewed and Sales is Right Skewed.\n"
   ]
  },
  {
   "cell_type": "code",
   "execution_count": 407,
   "id": "bb3cf678",
   "metadata": {},
   "outputs": [
    {
     "name": "stdout",
     "output_type": "stream",
     "text": [
      "Kurtosis of the variable are:\n",
      "Order Quantity    -1.208020\n",
      "Sales             60.928376\n",
      "dtype: float64\n"
     ]
    }
   ],
   "source": [
    "print('Kurtosis of the variable are:')\n",
    "print(df_numeric.kurt())"
   ]
  },
  {
   "cell_type": "markdown",
   "id": "1a2deb94",
   "metadata": {},
   "source": [
    "#### INFERENCE\n",
    "* As we know if kurt values are <0 platykurtic; =0 mesokurtic; >0 leptokurtic\n",
    "* We can infer that Order Quantity is Platykurtic and Sales is Leptokurtic"
   ]
  },
  {
   "cell_type": "markdown",
   "id": "5038d4a5",
   "metadata": {},
   "source": [
    "## VISUALISATION OF DATA"
   ]
  },
  {
   "cell_type": "code",
   "execution_count": 408,
   "id": "02325e43",
   "metadata": {},
   "outputs": [
    {
     "data": {
      "image/png": "[encoded data removed]",
      "text/plain": [
       "<Figure size 432x288 with 1 Axes>"
      ]
     },
     "metadata": {
      "needs_background": "light"
     },
     "output_type": "display_data"
    }
   ],
   "source": [
    "df[\"Order ID\"].value_counts().head(10).plot(kind=\"bar\")\n",
    "plt.show()"
   ]
  },
  {
   "cell_type": "code",
   "execution_count": 409,
   "id": "d68a6c17",
   "metadata": {},
   "outputs": [
    {
     "data": {
      "image/png": "[encoded data removed]",
      "text/plain": [
       "<Figure size 432x288 with 1 Axes>"
      ]
     },
     "metadata": {
      "needs_background": "light"
     },
     "output_type": "display_data"
    }
   ],
   "source": [
    "df[\"Order Date\"].value_counts().head(10).plot(kind=\"bar\")\n",
    "plt.show()"
   ]
  },
  {
   "cell_type": "code",
   "execution_count": 410,
   "id": "6586066e",
   "metadata": {},
   "outputs": [
    {
     "data": {
      "image/png": "[encoded data removed]",
      "text/plain": [
       "<Figure size 432x288 with 1 Axes>"
      ]
     },
     "metadata": {},
     "output_type": "display_data"
    }
   ],
   "source": [
    "order_priority_counts = df[\"Order Priority\"].value_counts()\n",
    "plt.pie(order_priority_counts,autopct = \"%.2f%%\")\n",
    "plt.legend(order_priority_counts.index,loc =\"upper left\")\n",
    "plt.show()"
   ]
  },
  {
   "cell_type": "markdown",
   "id": "81ef4924",
   "metadata": {},
   "source": []
  },
  {
   "cell_type": "markdown",
   "id": "d364fc92",
   "metadata": {},
   "source": [
    "### Count Plot of Product Category\n"
   ]
  },
  {
   "cell_type": "code",
   "execution_count": 411,
   "id": "47411690",
   "metadata": {},
   "outputs": [
    {
     "name": "stdout",
     "output_type": "stream",
     "text": [
      "Office Supplies    4610\n",
      "Technology         2065\n",
      "Furniture          1724\n",
      "Name: Product Category, dtype: int64\n"
     ]
    },
    {
     "data": {
      "image/png": "[encoded data removed]",
      "text/plain": [
       "<Figure size 1080x576 with 1 Axes>"
      ]
     },
     "metadata": {
      "needs_background": "light"
     },
     "output_type": "display_data"
    }
   ],
   "source": [
    "print(df[\"Product Category\"].value_counts())\n",
    "plt.figure(figsize=(15,8))\n",
    "sns.countplot(x=df[\"Product Category\"])\n",
    "plt.xticks(rotation=90)\n",
    "plt.show()"
   ]
  },
  {
   "cell_type": "markdown",
   "id": "a513402c",
   "metadata": {},
   "source": [
    "### Pie Chart for Product Sub-Category"
   ]
  },
  {
   "cell_type": "code",
   "execution_count": 412,
   "id": "0d5554b3",
   "metadata": {
    "scrolled": true
   },
   "outputs": [
    {
     "data": {
      "image/png": "[encoded data removed]",
      "text/plain": [
       "<Figure size 720x576 with 1 Axes>"
      ]
     },
     "metadata": {},
     "output_type": "display_data"
    }
   ],
   "source": [
    "plt.figure(figsize=(10,8))\n",
    "df[\"Product Sub-Category\"].value_counts().plot.pie(autopct=\"%1.1f%%\")\n",
    "plt.show()"
   ]
  },
  {
   "cell_type": "markdown",
   "id": "d5036386",
   "metadata": {},
   "source": [
    "### Count plot of Product Sub-Category"
   ]
  },
  {
   "cell_type": "code",
   "execution_count": 413,
   "id": "eccb0cfe",
   "metadata": {},
   "outputs": [
    {
     "name": "stdout",
     "output_type": "stream",
     "text": [
      "Paper                             1225\n",
      "Binders and Binder Accessories     915\n",
      "Telephones and Communication       883\n",
      "Office Furnishings                 788\n",
      "Computer Peripherals               758\n",
      "Pens & Art Supplies                633\n",
      "Storage & Organization             546\n",
      "Appliances                         434\n",
      "Chairs & Chairmats                 386\n",
      "Tables                             361\n",
      "Office Machines                    337\n",
      "Labels                             288\n",
      "Envelopes                          246\n",
      "Bookcases                          189\n",
      "Rubber Bands                       179\n",
      "Scissors, Rulers and Trimmers      144\n",
      "Copiers and Fax                     87\n",
      "Name: Product Sub-Category, dtype: int64\n"
     ]
    },
    {
     "data": {
      "image/png": "[encoded data removed]",
      "text/plain": [
       "<Figure size 1080x576 with 1 Axes>"
      ]
     },
     "metadata": {
      "needs_background": "light"
     },
     "output_type": "display_data"
    }
   ],
   "source": [
    "print(df[\"Product Sub-Category\"].value_counts())\n",
    "plt.figure(figsize=(15,8))\n",
    "sns.countplot(x=df[\"Product Sub-Category\"])\n",
    "plt.xticks(rotation=90)\n",
    "plt.show()"
   ]
  },
  {
   "cell_type": "markdown",
   "id": "67b90526",
   "metadata": {},
   "source": [
    "### Count Plot Of Province"
   ]
  },
  {
   "cell_type": "code",
   "execution_count": 414,
   "id": "a2b8d846",
   "metadata": {},
   "outputs": [
    {
     "name": "stdout",
     "output_type": "stream",
     "text": [
      "Ontario                  1826\n",
      "British Columbia         1126\n",
      "Saskachewan               913\n",
      "Alberta                   865\n",
      "Manitoba                  793\n",
      "Quebec                    781\n",
      "Yukon                     542\n",
      "Nova Scotia               464\n",
      "Northwest Territories     394\n",
      "New Brunswick             323\n",
      "Prince Edward Island      211\n",
      "Newfoundland               82\n",
      "Nunavut                    79\n",
      "Name: Province, dtype: int64\n"
     ]
    },
    {
     "data": {
      "image/png": "[encoded data removed]",
      "text/plain": [
       "<Figure size 1080x576 with 1 Axes>"
      ]
     },
     "metadata": {
      "needs_background": "light"
     },
     "output_type": "display_data"
    }
   ],
   "source": [
    "print(df[\"Province\"].value_counts())\n",
    "plt.figure(figsize=(15,8))\n",
    "sns.countplot(x=df[\"Province\"])\n",
    "plt.xticks(rotation=90)\n",
    "plt.show()"
   ]
  },
  {
   "cell_type": "markdown",
   "id": "784dfc51",
   "metadata": {},
   "source": [
    "## Count Plot of Region"
   ]
  },
  {
   "cell_type": "code",
   "execution_count": 415,
   "id": "de35949a",
   "metadata": {},
   "outputs": [
    {
     "name": "stdout",
     "output_type": "stream",
     "text": [
      "West                     1991\n",
      "Ontario                  1826\n",
      "Prarie                   1706\n",
      "Atlantic                 1080\n",
      "Quebec                    781\n",
      "Yukon                     542\n",
      "Northwest Territories     394\n",
      "Nunavut                    79\n",
      "Name: Region, dtype: int64\n"
     ]
    },
    {
     "data": {
      "image/png": "[encoded data removed]",
      "text/plain": [
       "<Figure size 1080x576 with 1 Axes>"
      ]
     },
     "metadata": {
      "needs_background": "light"
     },
     "output_type": "display_data"
    }
   ],
   "source": [
    "print(df[\"Region\"].value_counts())\n",
    "plt.figure(figsize=(15,8))\n",
    "sns.countplot(x=df[\"Region\"])\n",
    "plt.xticks(rotation=90)\n",
    "plt.show()"
   ]
  },
  {
   "cell_type": "markdown",
   "id": "9a84a853",
   "metadata": {},
   "source": [
    "###  Heat Map of Correlation among the columns"
   ]
  },
  {
   "cell_type": "code",
   "execution_count": 418,
   "id": "a3f2e23c",
   "metadata": {},
   "outputs": [
    {
     "data": {
      "image/png": "[encoded data removed]",
      "text/plain": [
       "<Figure size 432x288 with 2 Axes>"
      ]
     },
     "metadata": {
      "needs_background": "light"
     },
     "output_type": "display_data"
    }
   ],
   "source": [
    "sns.heatmap(df.corr(),annot=True,cmap=\"YlGnBu\")\n",
    "plt.show()"
   ]
  },
  {
   "cell_type": "markdown",
   "id": "2d192c9f",
   "metadata": {},
   "source": [
    "### Heat Map of Covariance among the columns"
   ]
  },
  {
   "cell_type": "code",
   "execution_count": 419,
   "id": "daca595f",
   "metadata": {},
   "outputs": [
    {
     "data": {
      "image/png": "[encoded data removed]",
      "text/plain": [
       "<Figure size 432x288 with 2 Axes>"
      ]
     },
     "metadata": {
      "needs_background": "light"
     },
     "output_type": "display_data"
    }
   ],
   "source": [
    "sns.heatmap(df.cov(),annot=True,cmap=\"YlGnBu\")\n",
    "plt.show()"
   ]
  },
  {
   "cell_type": "markdown",
   "id": "76922660",
   "metadata": {},
   "source": [
    "## KPI KEY PERFORMANCE PREDICTORS"
   ]
  },
  {
   "cell_type": "markdown",
   "id": "7b0f4694",
   "metadata": {},
   "source": [
    "### Average sales per customer"
   ]
  },
  {
   "cell_type": "code",
   "execution_count": 420,
   "id": "8a72806d",
   "metadata": {},
   "outputs": [],
   "source": [
    "avg_sal_cus = df.groupby(\"Customer Name\")[[\"Sales\"]].mean()\n",
    "\n",
    "avg_sal_cus_n = avg_sal_cus.sort_values(by =\"Sales\",ascending=False)"
   ]
  },
  {
   "cell_type": "code",
   "execution_count": 421,
   "id": "78d51c1b",
   "metadata": {
    "scrolled": false
   },
   "outputs": [
    {
     "data": {
      "image/png": "[encoded data removed]",
      "text/plain": [
       "<Figure size 432x288 with 1 Axes>"
      ]
     },
     "metadata": {
      "needs_background": "light"
     },
     "output_type": "display_data"
    }
   ],
   "source": [
    "sns.barplot(x = avg_sal_cus_n.head(10).index,y =avg_sal_cus_n[\"Sales\"].head(10) )\n",
    "plt.xticks(rotation=\"90\")\n",
    "plt.title(\"TOP 10 AVG Sales per Customer\")\n",
    "plt.show()"
   ]
  },
  {
   "cell_type": "markdown",
   "id": "2ac412bd",
   "metadata": {},
   "source": [
    "#### Inference\n",
    "* Craig Carreira is the top customer as per average sales"
   ]
  },
  {
   "cell_type": "markdown",
   "id": "94f19bb4",
   "metadata": {},
   "source": [
    "### Average Transaction Size by Product Category"
   ]
  },
  {
   "cell_type": "code",
   "execution_count": 422,
   "id": "93c23ea7",
   "metadata": {},
   "outputs": [],
   "source": [
    "avg_trasc_prd = df.groupby(\"Product Category\")[\"Sales\"].mean()"
   ]
  },
  {
   "cell_type": "code",
   "execution_count": 423,
   "id": "6b9c5d93",
   "metadata": {},
   "outputs": [
    {
     "data": {
      "text/plain": [
       "Product Category\n",
       "Furniture          3003.822802\n",
       "Office Supplies     814.048178\n",
       "Technology         2897.941070\n",
       "Name: Sales, dtype: float64"
      ]
     },
     "execution_count": 423,
     "metadata": {},
     "output_type": "execute_result"
    }
   ],
   "source": [
    "avg_trasc_prd"
   ]
  },
  {
   "cell_type": "code",
   "execution_count": 424,
   "id": "ec5ff229",
   "metadata": {
    "scrolled": true
   },
   "outputs": [
    {
     "data": {
      "image/png": "[encoded data removed]",
      "text/plain": [
       "<Figure size 432x288 with 1 Axes>"
      ]
     },
     "metadata": {
      "needs_background": "light"
     },
     "output_type": "display_data"
    }
   ],
   "source": [
    "sns.barplot(x = avg_trasc_prd.index ,y = avg_trasc_prd.values)\n",
    "plt.title(\"Average Transaction Size by product category\")\n",
    "plt.show()"
   ]
  },
  {
   "cell_type": "markdown",
   "id": "50e0c3d9",
   "metadata": {},
   "source": [
    "#### Inference\n",
    "* Furniture has the highest Average Transaction Size by Product Category."
   ]
  },
  {
   "cell_type": "code",
   "execution_count": 425,
   "id": "b4a88be4",
   "metadata": {},
   "outputs": [
    {
     "data": {
      "text/html": [
       "<div>\n",
       "<style scoped>\n",
       "    .dataframe tbody tr th:only-of-type {\n",
       "        vertical-align: middle;\n",
       "    }\n",
       "\n",
       "    .dataframe tbody tr th {\n",
       "        vertical-align: top;\n",
       "    }\n",
       "\n",
       "    .dataframe thead th {\n",
       "        text-align: right;\n",
       "    }\n",
       "</style>\n",
       "<table border=\"1\" class=\"dataframe\">\n",
       "  <thead>\n",
       "    <tr style=\"text-align: right;\">\n",
       "      <th></th>\n",
       "      <th>Order ID</th>\n",
       "      <th>Order Date</th>\n",
       "      <th>Order Priority</th>\n",
       "      <th>Order Quantity</th>\n",
       "      <th>Sales</th>\n",
       "      <th>Customer Name</th>\n",
       "      <th>Province</th>\n",
       "      <th>Region</th>\n",
       "      <th>Product Category</th>\n",
       "      <th>Product Sub-Category</th>\n",
       "      <th>Product Name</th>\n",
       "    </tr>\n",
       "  </thead>\n",
       "  <tbody>\n",
       "    <tr>\n",
       "      <th>0</th>\n",
       "      <td>3</td>\n",
       "      <td>2010-10-13</td>\n",
       "      <td>Low</td>\n",
       "      <td>6</td>\n",
       "      <td>261.54</td>\n",
       "      <td>Muhammed MacIntyre</td>\n",
       "      <td>Nunavut</td>\n",
       "      <td>Nunavut</td>\n",
       "      <td>Office Supplies</td>\n",
       "      <td>Storage &amp; Organization</td>\n",
       "      <td>Eldon Base for stackable storage shelf, platinum</td>\n",
       "    </tr>\n",
       "    <tr>\n",
       "      <th>1</th>\n",
       "      <td>293</td>\n",
       "      <td>2012-10-01</td>\n",
       "      <td>High</td>\n",
       "      <td>49</td>\n",
       "      <td>10123.02</td>\n",
       "      <td>Barry French</td>\n",
       "      <td>Nunavut</td>\n",
       "      <td>Nunavut</td>\n",
       "      <td>Office Supplies</td>\n",
       "      <td>Appliances</td>\n",
       "      <td>1.7 Cubic Foot Compact \"Cube\" Office Refrigera...</td>\n",
       "    </tr>\n",
       "    <tr>\n",
       "      <th>2</th>\n",
       "      <td>293</td>\n",
       "      <td>2012-10-01</td>\n",
       "      <td>High</td>\n",
       "      <td>27</td>\n",
       "      <td>244.57</td>\n",
       "      <td>Barry French</td>\n",
       "      <td>Nunavut</td>\n",
       "      <td>Nunavut</td>\n",
       "      <td>Office Supplies</td>\n",
       "      <td>Binders and Binder Accessories</td>\n",
       "      <td>Cardinal Slant-D� Ring Binder, Heavy Gauge Vinyl</td>\n",
       "    </tr>\n",
       "    <tr>\n",
       "      <th>3</th>\n",
       "      <td>483</td>\n",
       "      <td>2011-07-10</td>\n",
       "      <td>High</td>\n",
       "      <td>30</td>\n",
       "      <td>4965.76</td>\n",
       "      <td>Clay Rozendal</td>\n",
       "      <td>Nunavut</td>\n",
       "      <td>Nunavut</td>\n",
       "      <td>Technology</td>\n",
       "      <td>Telephones and Communication</td>\n",
       "      <td>R380</td>\n",
       "    </tr>\n",
       "    <tr>\n",
       "      <th>4</th>\n",
       "      <td>515</td>\n",
       "      <td>2010-08-28</td>\n",
       "      <td>Not Specified</td>\n",
       "      <td>19</td>\n",
       "      <td>394.27</td>\n",
       "      <td>Carlos Soltero</td>\n",
       "      <td>Nunavut</td>\n",
       "      <td>Nunavut</td>\n",
       "      <td>Office Supplies</td>\n",
       "      <td>Appliances</td>\n",
       "      <td>Holmes HEPA Air Purifier</td>\n",
       "    </tr>\n",
       "  </tbody>\n",
       "</table>\n",
       "</div>"
      ],
      "text/plain": [
       "  Order ID Order Date Order Priority  Order Quantity     Sales  \\\n",
       "0        3 2010-10-13            Low               6    261.54   \n",
       "1      293 2012-10-01           High              49  10123.02   \n",
       "2      293 2012-10-01           High              27    244.57   \n",
       "3      483 2011-07-10           High              30   4965.76   \n",
       "4      515 2010-08-28  Not Specified              19    394.27   \n",
       "\n",
       "        Customer Name Province   Region Product Category  \\\n",
       "0  Muhammed MacIntyre  Nunavut  Nunavut  Office Supplies   \n",
       "1        Barry French  Nunavut  Nunavut  Office Supplies   \n",
       "2        Barry French  Nunavut  Nunavut  Office Supplies   \n",
       "3       Clay Rozendal  Nunavut  Nunavut       Technology   \n",
       "4      Carlos Soltero  Nunavut  Nunavut  Office Supplies   \n",
       "\n",
       "             Product Sub-Category  \\\n",
       "0          Storage & Organization   \n",
       "1                      Appliances   \n",
       "2  Binders and Binder Accessories   \n",
       "3    Telephones and Communication   \n",
       "4                      Appliances   \n",
       "\n",
       "                                        Product Name  \n",
       "0   Eldon Base for stackable storage shelf, platinum  \n",
       "1  1.7 Cubic Foot Compact \"Cube\" Office Refrigera...  \n",
       "2   Cardinal Slant-D� Ring Binder, Heavy Gauge Vinyl  \n",
       "3                                               R380  \n",
       "4                           Holmes HEPA Air Purifier  "
      ]
     },
     "execution_count": 425,
     "metadata": {},
     "output_type": "execute_result"
    }
   ],
   "source": [
    "df.head()"
   ]
  },
  {
   "cell_type": "markdown",
   "id": "6d601d55",
   "metadata": {},
   "source": [
    "## Recency ( How recently a customer has made a purchase)"
   ]
  },
  {
   "cell_type": "code",
   "execution_count": 431,
   "id": "5e4e4c66",
   "metadata": {},
   "outputs": [
    {
     "name": "stdout",
     "output_type": "stream",
     "text": [
      "2012-12-30 00:00:00\n"
     ]
    }
   ],
   "source": [
    "maximum=max(df[\"Order Date\"])\n",
    "print(maximum)"
   ]
  },
  {
   "cell_type": "code",
   "execution_count": 432,
   "id": "aa2c2a3e",
   "metadata": {},
   "outputs": [],
   "source": [
    "reference_date = pd.to_datetime('2012-12-30')"
   ]
  },
  {
   "cell_type": "code",
   "execution_count": 433,
   "id": "866fe409",
   "metadata": {
    "scrolled": false
   },
   "outputs": [
    {
     "data": {
      "text/html": [
       "<div>\n",
       "<style scoped>\n",
       "    .dataframe tbody tr th:only-of-type {\n",
       "        vertical-align: middle;\n",
       "    }\n",
       "\n",
       "    .dataframe tbody tr th {\n",
       "        vertical-align: top;\n",
       "    }\n",
       "\n",
       "    .dataframe thead th {\n",
       "        text-align: right;\n",
       "    }\n",
       "</style>\n",
       "<table border=\"1\" class=\"dataframe\">\n",
       "  <thead>\n",
       "    <tr style=\"text-align: right;\">\n",
       "      <th></th>\n",
       "      <th>Order Date</th>\n",
       "    </tr>\n",
       "    <tr>\n",
       "      <th>Customer Name</th>\n",
       "      <th></th>\n",
       "    </tr>\n",
       "  </thead>\n",
       "  <tbody>\n",
       "    <tr>\n",
       "      <th>Aaron Bergman</th>\n",
       "      <td>582</td>\n",
       "    </tr>\n",
       "    <tr>\n",
       "      <th>Aaron Hawkins</th>\n",
       "      <td>367</td>\n",
       "    </tr>\n",
       "    <tr>\n",
       "      <th>Aaron Smayling</th>\n",
       "      <td>346</td>\n",
       "    </tr>\n",
       "    <tr>\n",
       "      <th>Adam Bellavance</th>\n",
       "      <td>89</td>\n",
       "    </tr>\n",
       "    <tr>\n",
       "      <th>Adam Hart</th>\n",
       "      <td>19</td>\n",
       "    </tr>\n",
       "    <tr>\n",
       "      <th>...</th>\n",
       "      <td>...</td>\n",
       "    </tr>\n",
       "    <tr>\n",
       "      <th>Vivian Mathis</th>\n",
       "      <td>54</td>\n",
       "    </tr>\n",
       "    <tr>\n",
       "      <th>William Brown</th>\n",
       "      <td>10</td>\n",
       "    </tr>\n",
       "    <tr>\n",
       "      <th>Xylona Price</th>\n",
       "      <td>24</td>\n",
       "    </tr>\n",
       "    <tr>\n",
       "      <th>Yana Sorensen</th>\n",
       "      <td>132</td>\n",
       "    </tr>\n",
       "    <tr>\n",
       "      <th>Yoseph Carroll</th>\n",
       "      <td>73</td>\n",
       "    </tr>\n",
       "  </tbody>\n",
       "</table>\n",
       "<p>795 rows × 1 columns</p>\n",
       "</div>"
      ],
      "text/plain": [
       "                 Order Date\n",
       "Customer Name              \n",
       "Aaron Bergman           582\n",
       "Aaron Hawkins           367\n",
       "Aaron Smayling          346\n",
       "Adam Bellavance          89\n",
       "Adam Hart                19\n",
       "...                     ...\n",
       "Vivian Mathis            54\n",
       "William Brown            10\n",
       "Xylona Price             24\n",
       "Yana Sorensen           132\n",
       "Yoseph Carroll           73\n",
       "\n",
       "[795 rows x 1 columns]"
      ]
     },
     "execution_count": 433,
     "metadata": {},
     "output_type": "execute_result"
    }
   ],
   "source": [
    "recency=df.groupby([\"Customer Name\"]).agg({\"Order Date\":lambda x:((reference_date-x.max()).days)})\n",
    "recency"
   ]
  },
  {
   "cell_type": "markdown",
   "id": "a278d320",
   "metadata": {},
   "source": [
    "Here we use the groupby() function to group the data by the \"Customer Name\" column,and \n",
    "{\"Order Date\": lambda x: (reference_date - x.max()).days} is used to calculate the recency by subtracting \n",
    "the maximum order date from the reference date for each customer. The resulting recency values \n",
    "are aggregated using the .agg() function."
   ]
  },
  {
   "cell_type": "markdown",
   "id": "a5366c7e",
   "metadata": {},
   "source": [
    "## Frequeny (How often a customer makes a purchase)"
   ]
  },
  {
   "cell_type": "code",
   "execution_count": 434,
   "id": "837a6b71",
   "metadata": {},
   "outputs": [],
   "source": [
    "freq=df.groupby('Customer Name')['Order ID'].count()"
   ]
  },
  {
   "cell_type": "code",
   "execution_count": 435,
   "id": "dbfeb1e9",
   "metadata": {
    "scrolled": true
   },
   "outputs": [
    {
     "data": {
      "text/plain": [
       "Customer Name\n",
       "Aaron Bergman       7\n",
       "Aaron Hawkins      12\n",
       "Aaron Smayling     14\n",
       "Adam Bellavance    12\n",
       "Adam Hart          27\n",
       "                   ..\n",
       "Vivian Mathis      15\n",
       "William Brown      23\n",
       "Xylona Price       14\n",
       "Yana Sorensen       6\n",
       "Yoseph Carroll      9\n",
       "Name: Order ID, Length: 795, dtype: int64"
      ]
     },
     "execution_count": 435,
     "metadata": {},
     "output_type": "execute_result"
    }
   ],
   "source": [
    "freq"
   ]
  },
  {
   "cell_type": "raw",
   "id": "afef4fe1",
   "metadata": {},
   "source": [
    "Here we use the groupby() function to group the data by the \"Customer Name\" column, \n",
    "and ['Order ID'] specifies the column containing the order IDs. The count() function is applied to the 'Order ID' column \n",
    "within each group, resulting in the frequency count for each customer."
   ]
  },
  {
   "cell_type": "code",
   "execution_count": 436,
   "id": "81e20fbc",
   "metadata": {},
   "outputs": [],
   "source": [
    "sorted_frequency = freq.sort_values(ascending=False).head(10)"
   ]
  },
  {
   "cell_type": "code",
   "execution_count": 437,
   "id": "82a95e45",
   "metadata": {},
   "outputs": [
    {
     "data": {
      "image/png": "[encoded data removed]",
      "text/plain": [
       "<Figure size 720x432 with 1 Axes>"
      ]
     },
     "metadata": {
      "needs_background": "light"
     },
     "output_type": "display_data"
    }
   ],
   "source": [
    "plt.figure(figsize=(10, 6))\n",
    "plt.bar(sorted_frequency.index, sorted_frequency.values)\n",
    "plt.xlabel('Customer Name')\n",
    "plt.ylabel('Frequency')\n",
    "plt.title('Order Frequency per Customer')\n",
    "plt.xticks(rotation=90)\n",
    "plt.show()"
   ]
  },
  {
   "cell_type": "markdown",
   "id": "c2e29be7",
   "metadata": {},
   "source": [
    "## Monetary (How much money a customer spends on purchases)"
   ]
  },
  {
   "cell_type": "code",
   "execution_count": 438,
   "id": "1637d052",
   "metadata": {},
   "outputs": [],
   "source": [
    "monetary=df.groupby('Customer Name')['Sales'].sum()"
   ]
  },
  {
   "cell_type": "code",
   "execution_count": 439,
   "id": "0ff5b9ac",
   "metadata": {},
   "outputs": [
    {
     "data": {
      "text/plain": [
       "Customer Name\n",
       "Aaron Bergman      11630.59\n",
       "Aaron Hawkins      27690.73\n",
       "Aaron Smayling      8835.32\n",
       "Adam Bellavance    11577.58\n",
       "Adam Hart          26114.26\n",
       "                     ...   \n",
       "Vivian Mathis      29420.89\n",
       "William Brown      38872.59\n",
       "Xylona Price       18037.09\n",
       "Yana Sorensen       1987.16\n",
       "Yoseph Carroll     10535.32\n",
       "Name: Sales, Length: 795, dtype: float64"
      ]
     },
     "execution_count": 439,
     "metadata": {},
     "output_type": "execute_result"
    }
   ],
   "source": [
    "monetary"
   ]
  },
  {
   "cell_type": "raw",
   "id": "3bc48115",
   "metadata": {},
   "source": [
    "Here we use the groupby() function to group the data by the \"Customer Name\" column, and ['Sales'] \n",
    "specifies the column containing the sales values. The sum() function is applied to the 'Sales' column within each group, \n",
    "resulting in the monetary value (total sales) for each customer."
   ]
  },
  {
   "cell_type": "code",
   "execution_count": 440,
   "id": "b7cd6fbd",
   "metadata": {},
   "outputs": [],
   "source": [
    "sorted_monetary =monetary.sort_values(ascending=False).head(10)"
   ]
  },
  {
   "cell_type": "code",
   "execution_count": 441,
   "id": "4265d4c0",
   "metadata": {},
   "outputs": [
    {
     "data": {
      "image/png": "[encoded data removed]",
      "text/plain": [
       "<Figure size 720x432 with 1 Axes>"
      ]
     },
     "metadata": {
      "needs_background": "light"
     },
     "output_type": "display_data"
    }
   ],
   "source": [
    "plt.figure(figsize=(10, 6))\n",
    "plt.bar(sorted_monetary.index, sorted_monetary.values)\n",
    "plt.xlabel('Customer Name')\n",
    "plt.ylabel('Monetary Value')\n",
    "plt.title('Total Sales per Customer')\n",
    "plt.xticks(rotation=90)\n",
    "plt.show()"
   ]
  },
  {
   "cell_type": "code",
   "execution_count": 442,
   "id": "f813bc2c",
   "metadata": {},
   "outputs": [],
   "source": [
    "RFM=pd.concat([recency,freq,monetary],axis=1)\n"
   ]
  },
  {
   "cell_type": "code",
   "execution_count": 443,
   "id": "b4b33f20",
   "metadata": {},
   "outputs": [
    {
     "data": {
      "text/html": [
       "<div>\n",
       "<style scoped>\n",
       "    .dataframe tbody tr th:only-of-type {\n",
       "        vertical-align: middle;\n",
       "    }\n",
       "\n",
       "    .dataframe tbody tr th {\n",
       "        vertical-align: top;\n",
       "    }\n",
       "\n",
       "    .dataframe thead th {\n",
       "        text-align: right;\n",
       "    }\n",
       "</style>\n",
       "<table border=\"1\" class=\"dataframe\">\n",
       "  <thead>\n",
       "    <tr style=\"text-align: right;\">\n",
       "      <th></th>\n",
       "      <th>Order Date</th>\n",
       "      <th>Order ID</th>\n",
       "      <th>Sales</th>\n",
       "    </tr>\n",
       "    <tr>\n",
       "      <th>Customer Name</th>\n",
       "      <th></th>\n",
       "      <th></th>\n",
       "      <th></th>\n",
       "    </tr>\n",
       "  </thead>\n",
       "  <tbody>\n",
       "    <tr>\n",
       "      <th>Aaron Bergman</th>\n",
       "      <td>582</td>\n",
       "      <td>7</td>\n",
       "      <td>11630.59</td>\n",
       "    </tr>\n",
       "    <tr>\n",
       "      <th>Aaron Hawkins</th>\n",
       "      <td>367</td>\n",
       "      <td>12</td>\n",
       "      <td>27690.73</td>\n",
       "    </tr>\n",
       "    <tr>\n",
       "      <th>Aaron Smayling</th>\n",
       "      <td>346</td>\n",
       "      <td>14</td>\n",
       "      <td>8835.32</td>\n",
       "    </tr>\n",
       "    <tr>\n",
       "      <th>Adam Bellavance</th>\n",
       "      <td>89</td>\n",
       "      <td>12</td>\n",
       "      <td>11577.58</td>\n",
       "    </tr>\n",
       "    <tr>\n",
       "      <th>Adam Hart</th>\n",
       "      <td>19</td>\n",
       "      <td>27</td>\n",
       "      <td>26114.26</td>\n",
       "    </tr>\n",
       "    <tr>\n",
       "      <th>...</th>\n",
       "      <td>...</td>\n",
       "      <td>...</td>\n",
       "      <td>...</td>\n",
       "    </tr>\n",
       "    <tr>\n",
       "      <th>Vivian Mathis</th>\n",
       "      <td>54</td>\n",
       "      <td>15</td>\n",
       "      <td>29420.89</td>\n",
       "    </tr>\n",
       "    <tr>\n",
       "      <th>William Brown</th>\n",
       "      <td>10</td>\n",
       "      <td>23</td>\n",
       "      <td>38872.59</td>\n",
       "    </tr>\n",
       "    <tr>\n",
       "      <th>Xylona Price</th>\n",
       "      <td>24</td>\n",
       "      <td>14</td>\n",
       "      <td>18037.09</td>\n",
       "    </tr>\n",
       "    <tr>\n",
       "      <th>Yana Sorensen</th>\n",
       "      <td>132</td>\n",
       "      <td>6</td>\n",
       "      <td>1987.16</td>\n",
       "    </tr>\n",
       "    <tr>\n",
       "      <th>Yoseph Carroll</th>\n",
       "      <td>73</td>\n",
       "      <td>9</td>\n",
       "      <td>10535.32</td>\n",
       "    </tr>\n",
       "  </tbody>\n",
       "</table>\n",
       "<p>795 rows × 3 columns</p>\n",
       "</div>"
      ],
      "text/plain": [
       "                 Order Date  Order ID     Sales\n",
       "Customer Name                                  \n",
       "Aaron Bergman           582         7  11630.59\n",
       "Aaron Hawkins           367        12  27690.73\n",
       "Aaron Smayling          346        14   8835.32\n",
       "Adam Bellavance          89        12  11577.58\n",
       "Adam Hart                19        27  26114.26\n",
       "...                     ...       ...       ...\n",
       "Vivian Mathis            54        15  29420.89\n",
       "William Brown            10        23  38872.59\n",
       "Xylona Price             24        14  18037.09\n",
       "Yana Sorensen           132         6   1987.16\n",
       "Yoseph Carroll           73         9  10535.32\n",
       "\n",
       "[795 rows x 3 columns]"
      ]
     },
     "execution_count": 443,
     "metadata": {},
     "output_type": "execute_result"
    }
   ],
   "source": [
    "RFM"
   ]
  },
  {
   "cell_type": "code",
   "execution_count": 444,
   "id": "55a62fde",
   "metadata": {
    "scrolled": true
   },
   "outputs": [
    {
     "name": "stdout",
     "output_type": "stream",
     "text": [
      "                 Recency  Frequency  Monetary\n",
      "Customer Name                                \n",
      "Aaron Bergman        582          7  11630.59\n",
      "Aaron Hawkins        367         12  27690.73\n",
      "Aaron Smayling       346         14   8835.32\n",
      "Adam Bellavance       89         12  11577.58\n",
      "Adam Hart             19         27  26114.26\n",
      "...                  ...        ...       ...\n",
      "Vivian Mathis         54         15  29420.89\n",
      "William Brown         10         23  38872.59\n",
      "Xylona Price          24         14  18037.09\n",
      "Yana Sorensen        132          6   1987.16\n",
      "Yoseph Carroll        73          9  10535.32\n",
      "\n",
      "[795 rows x 3 columns]\n"
     ]
    }
   ],
   "source": [
    "column_mapping = {'Order Date': 'Recency',\n",
    "                  'Order ID': 'Frequency',\n",
    "                  'Sales': 'Monetary'}\n",
    "\n",
    "# Use the rename() function to update the column names\n",
    "RFM =RFM.rename(columns=column_mapping)\n",
    "\n",
    "print(RFM)"
   ]
  },
  {
   "cell_type": "code",
   "execution_count": 445,
   "id": "24cab9fa",
   "metadata": {},
   "outputs": [],
   "source": [
    "from sklearn.preprocessing import StandardScaler"
   ]
  },
  {
   "cell_type": "code",
   "execution_count": 446,
   "id": "a7b28ec8",
   "metadata": {},
   "outputs": [],
   "source": [
    "scaler=StandardScaler()\n",
    "scaled=scaler.fit_transform(RFM)"
   ]
  },
  {
   "cell_type": "code",
   "execution_count": 447,
   "id": "81bc2ce1",
   "metadata": {
    "scrolled": true
   },
   "outputs": [
    {
     "data": {
      "image/png": "[encoded data removed]",
      "text/plain": [
       "<Figure size 432x288 with 1 Axes>"
      ]
     },
     "metadata": {
      "needs_background": "light"
     },
     "output_type": "display_data"
    }
   ],
   "source": [
    "wcss=[]\n",
    "for i in np.arange(1,11):\n",
    "    kmeans=KMeans(n_clusters=i)\n",
    "    kmeans.fit(scaled)\n",
    "    wcss.append(kmeans.inertia_)\n",
    "plt.plot(inertia,marker=\"o\")\n",
    "plt.xlabel('Number of Clusters')\n",
    "plt.ylabel('WCSS')\n",
    "plt.title('Elbow Plot')\n",
    "plt.show()\n",
    "\n"
   ]
  },
  {
   "cell_type": "code",
   "execution_count": 448,
   "id": "79e15d26",
   "metadata": {},
   "outputs": [],
   "source": [
    "kmeans=KMeans(n_clusters=3)\n",
    "kmeans.fit(scaled)\n",
    "RFM[\"Clusters\"]=(kmeans.labels_+1)"
   ]
  },
  {
   "cell_type": "raw",
   "id": "d1a31366",
   "metadata": {},
   "source": [
    "In the above code KMeans(n_clusters=3) initializes the K-means clustering algorithm with 3 clusters. \n",
    "The fit() method is called on the scaled data (scaled) to perform clustering and identify the cluster labels. \n",
    "The cluster labels are assigned to the 'Clusters' column of the 'RFM' DataFrame, where kmeans.labels_ contains\n",
    "the assigned labels. Adding 1 to the labels (kmeans.labels_ + 1) \n",
    "ensures that the clusters are labeled from 1 to 3 (instead of the default 0 to 2)."
   ]
  },
  {
   "cell_type": "code",
   "execution_count": 449,
   "id": "061e4ce5",
   "metadata": {
    "scrolled": true
   },
   "outputs": [
    {
     "data": {
      "text/html": [
       "<div>\n",
       "<style scoped>\n",
       "    .dataframe tbody tr th:only-of-type {\n",
       "        vertical-align: middle;\n",
       "    }\n",
       "\n",
       "    .dataframe tbody tr th {\n",
       "        vertical-align: top;\n",
       "    }\n",
       "\n",
       "    .dataframe thead th {\n",
       "        text-align: right;\n",
       "    }\n",
       "</style>\n",
       "<table border=\"1\" class=\"dataframe\">\n",
       "  <thead>\n",
       "    <tr style=\"text-align: right;\">\n",
       "      <th></th>\n",
       "      <th>Recency</th>\n",
       "      <th>Frequency</th>\n",
       "      <th>Monetary</th>\n",
       "      <th>Clusters</th>\n",
       "    </tr>\n",
       "    <tr>\n",
       "      <th>Customer Name</th>\n",
       "      <th></th>\n",
       "      <th></th>\n",
       "      <th></th>\n",
       "      <th></th>\n",
       "    </tr>\n",
       "  </thead>\n",
       "  <tbody>\n",
       "    <tr>\n",
       "      <th>Aaron Bergman</th>\n",
       "      <td>582</td>\n",
       "      <td>7</td>\n",
       "      <td>11630.59</td>\n",
       "      <td>2</td>\n",
       "    </tr>\n",
       "    <tr>\n",
       "      <th>Aaron Hawkins</th>\n",
       "      <td>367</td>\n",
       "      <td>12</td>\n",
       "      <td>27690.73</td>\n",
       "      <td>1</td>\n",
       "    </tr>\n",
       "    <tr>\n",
       "      <th>Aaron Smayling</th>\n",
       "      <td>346</td>\n",
       "      <td>14</td>\n",
       "      <td>8835.32</td>\n",
       "      <td>1</td>\n",
       "    </tr>\n",
       "    <tr>\n",
       "      <th>Adam Bellavance</th>\n",
       "      <td>89</td>\n",
       "      <td>12</td>\n",
       "      <td>11577.58</td>\n",
       "      <td>1</td>\n",
       "    </tr>\n",
       "    <tr>\n",
       "      <th>Adam Hart</th>\n",
       "      <td>19</td>\n",
       "      <td>27</td>\n",
       "      <td>26114.26</td>\n",
       "      <td>3</td>\n",
       "    </tr>\n",
       "    <tr>\n",
       "      <th>...</th>\n",
       "      <td>...</td>\n",
       "      <td>...</td>\n",
       "      <td>...</td>\n",
       "      <td>...</td>\n",
       "    </tr>\n",
       "    <tr>\n",
       "      <th>Vivian Mathis</th>\n",
       "      <td>54</td>\n",
       "      <td>15</td>\n",
       "      <td>29420.89</td>\n",
       "      <td>3</td>\n",
       "    </tr>\n",
       "    <tr>\n",
       "      <th>William Brown</th>\n",
       "      <td>10</td>\n",
       "      <td>23</td>\n",
       "      <td>38872.59</td>\n",
       "      <td>3</td>\n",
       "    </tr>\n",
       "    <tr>\n",
       "      <th>Xylona Price</th>\n",
       "      <td>24</td>\n",
       "      <td>14</td>\n",
       "      <td>18037.09</td>\n",
       "      <td>1</td>\n",
       "    </tr>\n",
       "    <tr>\n",
       "      <th>Yana Sorensen</th>\n",
       "      <td>132</td>\n",
       "      <td>6</td>\n",
       "      <td>1987.16</td>\n",
       "      <td>1</td>\n",
       "    </tr>\n",
       "    <tr>\n",
       "      <th>Yoseph Carroll</th>\n",
       "      <td>73</td>\n",
       "      <td>9</td>\n",
       "      <td>10535.32</td>\n",
       "      <td>1</td>\n",
       "    </tr>\n",
       "  </tbody>\n",
       "</table>\n",
       "<p>795 rows × 4 columns</p>\n",
       "</div>"
      ],
      "text/plain": [
       "                 Recency  Frequency  Monetary  Clusters\n",
       "Customer Name                                          \n",
       "Aaron Bergman        582          7  11630.59         2\n",
       "Aaron Hawkins        367         12  27690.73         1\n",
       "Aaron Smayling       346         14   8835.32         1\n",
       "Adam Bellavance       89         12  11577.58         1\n",
       "Adam Hart             19         27  26114.26         3\n",
       "...                  ...        ...       ...       ...\n",
       "Vivian Mathis         54         15  29420.89         3\n",
       "William Brown         10         23  38872.59         3\n",
       "Xylona Price          24         14  18037.09         1\n",
       "Yana Sorensen        132          6   1987.16         1\n",
       "Yoseph Carroll        73          9  10535.32         1\n",
       "\n",
       "[795 rows x 4 columns]"
      ]
     },
     "execution_count": 449,
     "metadata": {},
     "output_type": "execute_result"
    }
   ],
   "source": [
    "RFM"
   ]
  },
  {
   "cell_type": "code",
   "execution_count": 451,
   "id": "2cfa5506",
   "metadata": {
    "scrolled": true
   },
   "outputs": [
    {
     "data": {
      "text/html": [
       "<div>\n",
       "<style scoped>\n",
       "    .dataframe tbody tr th:only-of-type {\n",
       "        vertical-align: middle;\n",
       "    }\n",
       "\n",
       "    .dataframe tbody tr th {\n",
       "        vertical-align: top;\n",
       "    }\n",
       "\n",
       "    .dataframe thead th {\n",
       "        text-align: right;\n",
       "    }\n",
       "</style>\n",
       "<table border=\"1\" class=\"dataframe\">\n",
       "  <thead>\n",
       "    <tr style=\"text-align: right;\">\n",
       "      <th></th>\n",
       "      <th>Recency</th>\n",
       "      <th>Frequency</th>\n",
       "      <th>Monetary</th>\n",
       "    </tr>\n",
       "    <tr>\n",
       "      <th>Clusters</th>\n",
       "      <th></th>\n",
       "      <th></th>\n",
       "      <th></th>\n",
       "    </tr>\n",
       "  </thead>\n",
       "  <tbody>\n",
       "    <tr>\n",
       "      <th>1</th>\n",
       "      <td>157.682819</td>\n",
       "      <td>8.444934</td>\n",
       "      <td>13042.238568</td>\n",
       "    </tr>\n",
       "    <tr>\n",
       "      <th>2</th>\n",
       "      <td>648.389706</td>\n",
       "      <td>5.897059</td>\n",
       "      <td>8944.858456</td>\n",
       "    </tr>\n",
       "    <tr>\n",
       "      <th>3</th>\n",
       "      <td>123.712195</td>\n",
       "      <td>18.356098</td>\n",
       "      <td>37941.092000</td>\n",
       "    </tr>\n",
       "  </tbody>\n",
       "</table>\n",
       "</div>"
      ],
      "text/plain": [
       "             Recency  Frequency      Monetary\n",
       "Clusters                                     \n",
       "1         157.682819   8.444934  13042.238568\n",
       "2         648.389706   5.897059   8944.858456\n",
       "3         123.712195  18.356098  37941.092000"
      ]
     },
     "execution_count": 451,
     "metadata": {},
     "output_type": "execute_result"
    }
   ],
   "source": [
    "group=RFM.groupby(\"Clusters\")[\"Recency\",\"Frequency\",\"Monetary\"].mean()\n",
    "group"
   ]
  },
  {
   "cell_type": "raw",
   "id": "f044878b",
   "metadata": {},
   "source": [
    "Here groupby(\"Clusters\") groups the data based on the 'Clusters' column. \n",
    "Then, [\"Recency\", \"Frequency\", \"Monetary\"] specifies the columns for which you want to calculate the mean values. \n",
    "Finally, the mean() function is applied to the grouped data, resulting in the mean \n",
    "values of 'Recency', 'Frequency', and 'Monetary' for each cluster."
   ]
  },
  {
   "cell_type": "markdown",
   "id": "fd68617f",
   "metadata": {},
   "source": [
    "#### Inference \n",
    "* We can infer that cluster 2 has the highest Recency value and lowest frequency and monetary value.\n",
    "* And cluster 3 has the lowest recency and highest frequency and monetary value.\n",
    "* Cluster 1 has better recency value than cluster 2 but lesser frequency and monetary value when compared to cluster 3."
   ]
  },
  {
   "cell_type": "code",
   "execution_count": 452,
   "id": "462d340e",
   "metadata": {},
   "outputs": [],
   "source": [
    "def func(row):\n",
    "    if row[\"Clusters\"]==1:\n",
    "        return \"Core Customers\"\n",
    "    elif row[\"Clusters\"]==3:\n",
    "        return \"Whale Customers\"\n",
    "    else:\n",
    "        return \"Lapsed Customers\""
   ]
  },
  {
   "cell_type": "code",
   "execution_count": 453,
   "id": "53abd8ac",
   "metadata": {},
   "outputs": [],
   "source": [
    "RFM[\"Customer Segment\"]=RFM.apply(func,axis=1)"
   ]
  },
  {
   "cell_type": "code",
   "execution_count": 454,
   "id": "651dee31",
   "metadata": {
    "scrolled": true
   },
   "outputs": [
    {
     "data": {
      "text/html": [
       "<div>\n",
       "<style scoped>\n",
       "    .dataframe tbody tr th:only-of-type {\n",
       "        vertical-align: middle;\n",
       "    }\n",
       "\n",
       "    .dataframe tbody tr th {\n",
       "        vertical-align: top;\n",
       "    }\n",
       "\n",
       "    .dataframe thead th {\n",
       "        text-align: right;\n",
       "    }\n",
       "</style>\n",
       "<table border=\"1\" class=\"dataframe\">\n",
       "  <thead>\n",
       "    <tr style=\"text-align: right;\">\n",
       "      <th></th>\n",
       "      <th>Recency</th>\n",
       "      <th>Frequency</th>\n",
       "      <th>Monetary</th>\n",
       "      <th>Clusters</th>\n",
       "      <th>Customer Segment</th>\n",
       "    </tr>\n",
       "    <tr>\n",
       "      <th>Customer Name</th>\n",
       "      <th></th>\n",
       "      <th></th>\n",
       "      <th></th>\n",
       "      <th></th>\n",
       "      <th></th>\n",
       "    </tr>\n",
       "  </thead>\n",
       "  <tbody>\n",
       "    <tr>\n",
       "      <th>Aaron Bergman</th>\n",
       "      <td>582</td>\n",
       "      <td>7</td>\n",
       "      <td>11630.59</td>\n",
       "      <td>2</td>\n",
       "      <td>Lapsed Customers</td>\n",
       "    </tr>\n",
       "    <tr>\n",
       "      <th>Aaron Hawkins</th>\n",
       "      <td>367</td>\n",
       "      <td>12</td>\n",
       "      <td>27690.73</td>\n",
       "      <td>1</td>\n",
       "      <td>Core Customers</td>\n",
       "    </tr>\n",
       "    <tr>\n",
       "      <th>Aaron Smayling</th>\n",
       "      <td>346</td>\n",
       "      <td>14</td>\n",
       "      <td>8835.32</td>\n",
       "      <td>1</td>\n",
       "      <td>Core Customers</td>\n",
       "    </tr>\n",
       "    <tr>\n",
       "      <th>Adam Bellavance</th>\n",
       "      <td>89</td>\n",
       "      <td>12</td>\n",
       "      <td>11577.58</td>\n",
       "      <td>1</td>\n",
       "      <td>Core Customers</td>\n",
       "    </tr>\n",
       "    <tr>\n",
       "      <th>Adam Hart</th>\n",
       "      <td>19</td>\n",
       "      <td>27</td>\n",
       "      <td>26114.26</td>\n",
       "      <td>3</td>\n",
       "      <td>Whale Customers</td>\n",
       "    </tr>\n",
       "    <tr>\n",
       "      <th>...</th>\n",
       "      <td>...</td>\n",
       "      <td>...</td>\n",
       "      <td>...</td>\n",
       "      <td>...</td>\n",
       "      <td>...</td>\n",
       "    </tr>\n",
       "    <tr>\n",
       "      <th>Vivian Mathis</th>\n",
       "      <td>54</td>\n",
       "      <td>15</td>\n",
       "      <td>29420.89</td>\n",
       "      <td>3</td>\n",
       "      <td>Whale Customers</td>\n",
       "    </tr>\n",
       "    <tr>\n",
       "      <th>William Brown</th>\n",
       "      <td>10</td>\n",
       "      <td>23</td>\n",
       "      <td>38872.59</td>\n",
       "      <td>3</td>\n",
       "      <td>Whale Customers</td>\n",
       "    </tr>\n",
       "    <tr>\n",
       "      <th>Xylona Price</th>\n",
       "      <td>24</td>\n",
       "      <td>14</td>\n",
       "      <td>18037.09</td>\n",
       "      <td>1</td>\n",
       "      <td>Core Customers</td>\n",
       "    </tr>\n",
       "    <tr>\n",
       "      <th>Yana Sorensen</th>\n",
       "      <td>132</td>\n",
       "      <td>6</td>\n",
       "      <td>1987.16</td>\n",
       "      <td>1</td>\n",
       "      <td>Core Customers</td>\n",
       "    </tr>\n",
       "    <tr>\n",
       "      <th>Yoseph Carroll</th>\n",
       "      <td>73</td>\n",
       "      <td>9</td>\n",
       "      <td>10535.32</td>\n",
       "      <td>1</td>\n",
       "      <td>Core Customers</td>\n",
       "    </tr>\n",
       "  </tbody>\n",
       "</table>\n",
       "<p>795 rows × 5 columns</p>\n",
       "</div>"
      ],
      "text/plain": [
       "                 Recency  Frequency  Monetary  Clusters  Customer Segment\n",
       "Customer Name                                                            \n",
       "Aaron Bergman        582          7  11630.59         2  Lapsed Customers\n",
       "Aaron Hawkins        367         12  27690.73         1    Core Customers\n",
       "Aaron Smayling       346         14   8835.32         1    Core Customers\n",
       "Adam Bellavance       89         12  11577.58         1    Core Customers\n",
       "Adam Hart             19         27  26114.26         3   Whale Customers\n",
       "...                  ...        ...       ...       ...               ...\n",
       "Vivian Mathis         54         15  29420.89         3   Whale Customers\n",
       "William Brown         10         23  38872.59         3   Whale Customers\n",
       "Xylona Price          24         14  18037.09         1    Core Customers\n",
       "Yana Sorensen        132          6   1987.16         1    Core Customers\n",
       "Yoseph Carroll        73          9  10535.32         1    Core Customers\n",
       "\n",
       "[795 rows x 5 columns]"
      ]
     },
     "execution_count": 454,
     "metadata": {},
     "output_type": "execute_result"
    }
   ],
   "source": [
    "RFM"
   ]
  },
  {
   "cell_type": "markdown",
   "id": "105b0044",
   "metadata": {},
   "source": [
    "#### 1. Lapsed customers\" refers to customers who were previously engaged with your business but have\n",
    "#### not made any recent purchases or interactions.\n",
    "#### These customers were once active and valuable to your business but have now become inactive.\n",
    "\n",
    "#### 2. Whale customers is a term used to describe highly valuable and high-spending customers \n",
    "#### for a business. These customers make significant and frequent purchases, \n",
    "#### contributing a substantial portion of the company's revenue.\n",
    "\n",
    "#### 3. The term Core Customers implies that they form a foundational \n",
    "#### and reliable customer segment for your business. These customers may not have the \n",
    "#### highest spending or frequency of purchases compared to whale customers, \n",
    "#### but they still contribute consistently to your revenue "
   ]
  },
  {
   "cell_type": "code",
   "execution_count": 461,
   "id": "dd0e273e",
   "metadata": {
    "scrolled": true
   },
   "outputs": [
    {
     "data": {
      "image/png": "[encoded data removed]",
      "text/plain": [
       "<Figure size 432x360 with 1 Axes>"
      ]
     },
     "metadata": {
      "needs_background": "light"
     },
     "output_type": "display_data"
    }
   ],
   "source": [
    "X = RFM[['Recency', 'Frequency', 'Monetary']]\n",
    "\n",
    "# Fit K-means clustering model\n",
    "kmeans = KMeans(n_clusters=3)\n",
    "kmeans.fit(X)\n",
    "\n",
    "# Add the cluster labels to the DataFrame\n",
    "RFM['Cluster'] = kmeans.labels_\n",
    "\n",
    "# Plot the clusters\n",
    "plt.figure(figsize=(6, 5))\n",
    "plt.scatter(X['Frequency'], X['Monetary'], c=RFM['Cluster'], cmap='viridis')\n",
    "plt.xlabel('Frequency')\n",
    "plt.ylabel('Monetary')\n",
    "plt.title('K-means Clustering')\n",
    "plt.show()"
   ]
  },
  {
   "cell_type": "raw",
   "id": "224c2adf",
   "metadata": {},
   "source": [
    "The above clustering results indicate different customer segments or behavior patterns based on 'Frequency' and 'Monetary' values"
   ]
  },
  {
   "cell_type": "code",
   "execution_count": 455,
   "id": "de06c538",
   "metadata": {},
   "outputs": [],
   "source": [
    "result=RFM[\"Customer Segment\"].value_counts()"
   ]
  },
  {
   "cell_type": "code",
   "execution_count": 456,
   "id": "7855715e",
   "metadata": {
    "scrolled": true
   },
   "outputs": [
    {
     "data": {
      "text/plain": [
       "Core Customers      454\n",
       "Whale Customers     205\n",
       "Lapsed Customers    136\n",
       "Name: Customer Segment, dtype: int64"
      ]
     },
     "execution_count": 456,
     "metadata": {},
     "output_type": "execute_result"
    }
   ],
   "source": [
    "result"
   ]
  },
  {
   "cell_type": "code",
   "execution_count": 457,
   "id": "a775ca66",
   "metadata": {},
   "outputs": [
    {
     "data": {
      "image/png": "[encoded data removed]",
      "text/plain": [
       "<Figure size 432x288 with 1 Axes>"
      ]
     },
     "metadata": {
      "needs_background": "light"
     },
     "output_type": "display_data"
    }
   ],
   "source": [
    "result.plot(kind=\"barh\",color=[\"Green\",\"Orange\",\"Red\"])\n",
    "plt.show()"
   ]
  },
  {
   "cell_type": "markdown",
   "id": "df85cd71",
   "metadata": {},
   "source": [
    "#### Inference\n",
    "#### From our Customer Segmentation Process we can infer that:\n",
    "#### The \"Core customers\" are high in number followed by \"Whale Customers\" and then \"Lapsed Customers\"."
   ]
  }
 ],
 "metadata": {
  "kernelspec": {
   "display_name": "Python 3 (ipykernel)",
   "language": "python",
   "name": "python3"
  },
  "language_info": {
   "codemirror_mode": {
    "name": "ipython",
    "version": 3
   },
   "file_extension": ".py",
   "mimetype": "text/x-python",
   "name": "python",
   "nbconvert_exporter": "python",
   "pygments_lexer": "ipython3",
   "version": "3.11.4"
  }
 },
 "nbformat": 4,
 "nbformat_minor": 5
}
